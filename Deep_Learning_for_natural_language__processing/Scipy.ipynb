{
 "cells": [
  {
   "cell_type": "code",
   "execution_count": 1,
   "metadata": {},
   "outputs": [],
   "source": [
    "import scipy\n",
    "import numpy as np"
   ]
  },
  {
   "cell_type": "code",
   "execution_count": 2,
   "metadata": {},
   "outputs": [],
   "source": [
    "from scipy import linalg\n",
    "mat = np.array([[1,2,3], [4,5,6], [6,7,8]])"
   ]
  },
  {
   "cell_type": "code",
   "execution_count": 3,
   "metadata": {},
   "outputs": [
    {
     "name": "stdout",
     "output_type": "stream",
     "text": [
      "[[1 2 3]\n",
      " [4 5 6]\n",
      " [6 7 8]]\n"
     ]
    }
   ],
   "source": [
    "print(mat)"
   ]
  },
  {
   "cell_type": "code",
   "execution_count": 6,
   "metadata": {},
   "outputs": [
    {
     "name": "stdout",
     "output_type": "stream",
     "text": [
      "-8.881784197001252e-16\n"
     ]
    }
   ],
   "source": [
    "#Determinant of the matrix\n",
    "print(linalg.det(mat))"
   ]
  },
  {
   "cell_type": "code",
   "execution_count": 7,
   "metadata": {},
   "outputs": [
    {
     "name": "stdout",
     "output_type": "stream",
     "text": [
      "[[ 1.7156570e+15 -4.2891425e+15  2.5734855e+15]\n",
      " [-3.4313140e+15  8.5782850e+15 -5.1469710e+15]\n",
      " [ 1.7156570e+15 -4.2891425e+15  2.5734855e+15]]\n"
     ]
    }
   ],
   "source": [
    "#Inverse of the matrix\n",
    "print(linalg.inv(mat))"
   ]
  },
  {
   "cell_type": "code",
   "execution_count": 8,
   "metadata": {},
   "outputs": [],
   "source": [
    "#Singular Value Decomposition\n",
    "comp_1, comp_2, comp_3 = linalg.svd(mat)"
   ]
  },
  {
   "cell_type": "code",
   "execution_count": 9,
   "metadata": {},
   "outputs": [
    {
     "name": "stdout",
     "output_type": "stream",
     "text": [
      "[[-0.23498172  0.91625348  0.32444284]\n",
      " [-0.56747984  0.14167532 -0.81110711]\n",
      " [-0.78914525 -0.37471012  0.48666426]]\n"
     ]
    }
   ],
   "source": [
    "print(comp_1)"
   ]
  },
  {
   "cell_type": "code",
   "execution_count": 10,
   "metadata": {},
   "outputs": [
    {
     "name": "stdout",
     "output_type": "stream",
     "text": [
      "[1.54611193e+01 9.76621976e-01 9.43299524e-17]\n"
     ]
    }
   ],
   "source": [
    "print(comp_2)"
   ]
  },
  {
   "cell_type": "code",
   "execution_count": 11,
   "metadata": {},
   "outputs": [
    {
     "name": "stdout",
     "output_type": "stream",
     "text": [
      "[[-0.46825669 -0.57119923 -0.67414176]\n",
      " [-0.78362555 -0.08405223  0.6155211 ]\n",
      " [-0.40824829  0.81649658 -0.40824829]]\n"
     ]
    }
   ],
   "source": [
    "print(comp_3)"
   ]
  },
  {
   "cell_type": "code",
   "execution_count": 14,
   "metadata": {},
   "outputs": [],
   "source": [
    "#scipy stats module\n",
    "from scipy import stats\n",
    "\n",
    "#Normal Distribution\n",
    "#Generating a random values wih mean = 3 and the standard deviation = 5 using the function\n",
    "data = stats.norm.rvs(3,5, size=20)"
   ]
  },
  {
   "cell_type": "code",
   "execution_count": 15,
   "metadata": {},
   "outputs": [
    {
     "name": "stdout",
     "output_type": "stream",
     "text": [
      "[ 2.77455738e+00 -3.87740756e-01  7.59723209e+00  7.09458634e+00\n",
      "  1.81506356e+00  5.28145699e+00  4.63734443e+00  2.72547529e-03\n",
      " -1.87720962e+00 -6.29490696e-01  3.65884949e+00  2.20515015e+00\n",
      " -1.13150036e+00 -4.16945923e+00 -3.68654441e+00  1.08336132e+01\n",
      "  1.42247001e+00 -8.78292452e+00 -4.87750115e+00 -2.89489674e-01]\n"
     ]
    }
   ],
   "source": [
    "print(data)"
   ]
  },
  {
   "cell_type": "code",
   "execution_count": 16,
   "metadata": {},
   "outputs": [],
   "source": [
    "#Cdf of the beta distribution of the data with a = 100, b=130 as the shape parameters and the random variable of 0.34\n",
    "cdf = scipy.stats.beta.cdf(0.34, a=100, b=134)"
   ]
  },
  {
   "cell_type": "code",
   "execution_count": 17,
   "metadata": {},
   "outputs": [
    {
     "name": "stdout",
     "output_type": "stream",
     "text": [
      "0.002865479220153413\n"
     ]
    }
   ],
   "source": [
    "print(cdf)"
   ]
  },
  {
   "cell_type": "code",
   "execution_count": null,
   "metadata": {},
   "outputs": [],
   "source": []
  }
 ],
 "metadata": {
  "kernelspec": {
   "display_name": "Python 3",
   "language": "python",
   "name": "python3"
  },
  "language_info": {
   "codemirror_mode": {
    "name": "ipython",
    "version": 3
   },
   "file_extension": ".py",
   "mimetype": "text/x-python",
   "name": "python",
   "nbconvert_exporter": "python",
   "pygments_lexer": "ipython3",
   "version": "3.7.4"
  }
 },
 "nbformat": 4,
 "nbformat_minor": 2
}
