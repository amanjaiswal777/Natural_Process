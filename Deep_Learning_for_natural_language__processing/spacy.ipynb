{
 "cells": [
  {
   "cell_type": "code",
   "execution_count": 1,
   "metadata": {},
   "outputs": [],
   "source": [
    "import spacy"
   ]
  },
  {
   "cell_type": "code",
   "execution_count": 2,
   "metadata": {},
   "outputs": [],
   "source": [
    "nlp = spacy.load(\"en\")"
   ]
  },
  {
   "cell_type": "code",
   "execution_count": 3,
   "metadata": {},
   "outputs": [],
   "source": [
    "william_wikidef = \"\"\"William was the son of King William II and Anna Pavlovna of Russia. On the abdication of his grandfather  William I in 1840, he became the Prince of Orange. On the death of his father in 1849, he succeeded as king of the Netherlands. William married his cousin Sophie of Württemberg in 1839 and they had three sons, William, Maurice, and Alexander, all of whom predeceased him. \"\"\""
   ]
  },
  {
   "cell_type": "code",
   "execution_count": 4,
   "metadata": {},
   "outputs": [
    {
     "name": "stdout",
     "output_type": "stream",
     "text": [
      "William was the son of King William II and Anna Pavlovna of Russia. On the abdication of his grandfather  William I in 1840, he became the Prince of Orange. On the death of his father in 1849, he succeeded as king of the Netherlands. William married his cousin Sophie of Württemberg in 1839 and they had three sons, William, Maurice, and Alexander, all of whom predeceased him. \n"
     ]
    }
   ],
   "source": [
    "print(william_wikidef)"
   ]
  },
  {
   "cell_type": "code",
   "execution_count": 5,
   "metadata": {},
   "outputs": [],
   "source": [
    "nlp_wiki = nlp(william_wikidef)"
   ]
  },
  {
   "cell_type": "code",
   "execution_count": 6,
   "metadata": {},
   "outputs": [
    {
     "name": "stdout",
     "output_type": "stream",
     "text": [
      "William was the son of King William II and Anna Pavlovna of Russia. On the abdication of his grandfather  William I in 1840, he became the Prince of Orange. On the death of his father in 1849, he succeeded as king of the Netherlands. William married his cousin Sophie of Württemberg in 1839 and they had three sons, William, Maurice, and Alexander, all of whom predeceased him. \n"
     ]
    }
   ],
   "source": [
    "print(nlp_wiki)"
   ]
  },
  {
   "cell_type": "code",
   "execution_count": 7,
   "metadata": {},
   "outputs": [
    {
     "name": "stdout",
     "output_type": "stream",
     "text": [
      "[(William, 'PERSON', 380), (King William II, 'PERSON', 380), (Anna Pavlovna, 'PERSON', 380), (Russia, 'GPE', 384), (William, 'PERSON', 380), (1840, 'DATE', 391), (the Prince of Orange, 'LOC', 385), (1849, 'DATE', 391), (Netherlands, 'GPE', 384), (William, 'PERSON', 380), (Sophie, 'PERSON', 380), (Württemberg, 'GPE', 384), (1839, 'DATE', 391), (three, 'CARDINAL', 397), (William, 'PERSON', 380), (Maurice, 'PERSON', 380), (Alexander, 'PERSON', 380)]\n"
     ]
    }
   ],
   "source": [
    "print([(i, i.label_, i.label) for i in nlp_wiki.ents])"
   ]
  },
  {
   "cell_type": "code",
   "execution_count": 8,
   "metadata": {},
   "outputs": [],
   "source": [
    "#Noun Phrase Extraction\n",
    "\n",
    "sent = nlp(\"I am the employer of this company.\")"
   ]
  },
  {
   "cell_type": "code",
   "execution_count": 14,
   "metadata": {},
   "outputs": [
    {
     "name": "stdout",
     "output_type": "stream",
     "text": [
      "I\n",
      "-----\n",
      "I\n",
      "---\n",
      "nsubj\n",
      "----\n",
      "am\n",
      "----\n",
      "the employer\n",
      "-----\n",
      "the employer\n",
      "---\n",
      "attr\n",
      "----\n",
      "am\n",
      "----\n",
      "this company\n",
      "-----\n",
      "this company\n",
      "---\n",
      "pobj\n",
      "----\n",
      "of\n",
      "----\n"
     ]
    }
   ],
   "source": [
    "for noun in sent.noun_chunks:\n",
    "    print(noun)\n",
    "    #print(noun_chunks)\n",
    "    print('-----')\n",
    "    print(noun.text)\n",
    "    print('---')\n",
    "    print(noun.root.dep_)\n",
    "    print('----')\n",
    "    print(noun.root.head.text)\n",
    "    print('----')"
   ]
  },
  {
   "cell_type": "code",
   "execution_count": null,
   "metadata": {},
   "outputs": [],
   "source": []
  }
 ],
 "metadata": {
  "kernelspec": {
   "display_name": "Python 3",
   "language": "python",
   "name": "python3"
  },
  "language_info": {
   "codemirror_mode": {
    "name": "ipython",
    "version": 3
   },
   "file_extension": ".py",
   "mimetype": "text/x-python",
   "name": "python",
   "nbconvert_exporter": "python",
   "pygments_lexer": "ipython3",
   "version": "3.7.4"
  }
 },
 "nbformat": 4,
 "nbformat_minor": 2
}
