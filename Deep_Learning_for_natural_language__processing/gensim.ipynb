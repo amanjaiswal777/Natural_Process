{
 "cells": [
  {
   "cell_type": "code",
   "execution_count": 1,
   "metadata": {},
   "outputs": [],
   "source": [
    "from gensim.models import Word2Vec\n"
   ]
  },
  {
   "cell_type": "code",
   "execution_count": 2,
   "metadata": {},
   "outputs": [],
   "source": [
    "min_count = 0\n",
    "size = 50\n",
    "window = 2\n",
    "sentences = \"Artificial Intelligencen is an emerging technology in this new world era.\"\n",
    "\n",
    "sentences=sentences.split()"
   ]
  },
  {
   "cell_type": "code",
   "execution_count": 3,
   "metadata": {},
   "outputs": [
    {
     "name": "stdout",
     "output_type": "stream",
     "text": [
      "['Artificial', 'Intelligencen', 'is', 'an', 'emerging', 'technology', 'in', 'this', 'new', 'world', 'era.']\n"
     ]
    }
   ],
   "source": [
    "print(sentences)"
   ]
  },
  {
   "cell_type": "code",
   "execution_count": 4,
   "metadata": {},
   "outputs": [],
   "source": [
    "model = Word2Vec(sentences, min_count=min_count, size=size, window=window)"
   ]
  },
  {
   "cell_type": "code",
   "execution_count": 5,
   "metadata": {},
   "outputs": [
    {
     "data": {
      "text/plain": [
       "<gensim.models.word2vec.Word2Vec at 0x7f74938fe690>"
      ]
     },
     "execution_count": 5,
     "metadata": {},
     "output_type": "execute_result"
    }
   ],
   "source": [
    "model"
   ]
  },
  {
   "cell_type": "code",
   "execution_count": 6,
   "metadata": {},
   "outputs": [
    {
     "name": "stderr",
     "output_type": "stream",
     "text": [
      "/home/aman/anaconda3/lib/python3.7/site-packages/ipykernel_launcher.py:1: DeprecationWarning: Call to deprecated `__getitem__` (Method will be removed in 4.0.0, use self.wv.__getitem__() instead).\n",
      "  \"\"\"Entry point for launching an IPython kernel.\n"
     ]
    },
    {
     "data": {
      "text/plain": [
       "array([-0.00533163,  0.00754424,  0.00626213, -0.00744993, -0.00651712,\n",
       "        0.00654107, -0.00795201, -0.00221028,  0.00749259, -0.00560762,\n",
       "       -0.00771669,  0.00312868, -0.00919891,  0.00652361, -0.00015558,\n",
       "        0.00296649,  0.0094129 , -0.00161974, -0.00041008, -0.00510838,\n",
       "       -0.00518552, -0.0073623 ,  0.00255711,  0.0071481 ,  0.00399817,\n",
       "        0.00305097,  0.00493495, -0.0028509 ,  0.00652624,  0.00019346,\n",
       "       -0.00328724,  0.00547021,  0.00961437, -0.00896993,  0.00549602,\n",
       "        0.00024797, -0.00709059, -0.00487941, -0.00275946,  0.00334132,\n",
       "       -0.00458626,  0.00603822, -0.00278466, -0.00689956,  0.00326589,\n",
       "        0.00517186, -0.00852547, -0.00713875, -0.0065873 , -0.00695079],\n",
       "      dtype=float32)"
      ]
     },
     "execution_count": 6,
     "metadata": {},
     "output_type": "execute_result"
    }
   ],
   "source": [
    "model['a']"
   ]
  },
  {
   "cell_type": "code",
   "execution_count": 8,
   "metadata": {},
   "outputs": [
    {
     "name": "stderr",
     "output_type": "stream",
     "text": [
      "/home/aman/anaconda3/lib/python3.7/site-packages/ipykernel_launcher.py:1: DeprecationWarning: Call to deprecated `__getitem__` (Method will be removed in 4.0.0, use self.wv.__getitem__() instead).\n",
      "  \"\"\"Entry point for launching an IPython kernel.\n"
     ]
    },
    {
     "data": {
      "text/plain": [
       "array([ 5.9543909e-03,  5.6478181e-03, -7.2086467e-03, -9.7436027e-04,\n",
       "        8.5670158e-04,  7.4221264e-03,  1.0855520e-04, -1.9430191e-03,\n",
       "       -5.1906975e-03,  7.0332885e-03, -9.8265754e-03,  5.4174792e-03,\n",
       "       -2.5600055e-03, -1.4331782e-03,  8.1249448e-03, -7.6197437e-04,\n",
       "       -1.1413168e-03,  7.2692783e-04,  9.7298380e-03,  6.1665196e-03,\n",
       "       -4.0497165e-03, -8.5705854e-03, -9.3273092e-03, -7.1746064e-05,\n",
       "       -9.0582650e-03, -5.3471071e-03, -2.3801341e-03, -5.1950491e-03,\n",
       "        5.1669469e-03,  4.4457302e-03, -8.1169102e-03, -7.0190858e-03,\n",
       "        4.8345672e-03,  6.8704402e-03, -4.4970438e-03, -2.3694546e-03,\n",
       "        2.6503084e-03,  7.4944249e-03, -6.0017831e-03, -1.1830286e-03,\n",
       "        2.5718366e-03, -8.4606390e-03, -1.4235902e-03,  3.4166866e-03,\n",
       "       -5.9199845e-03, -6.6235764e-03, -8.3995722e-03,  4.0264642e-03,\n",
       "       -9.0036569e-03,  9.2638249e-04], dtype=float32)"
      ]
     },
     "execution_count": 8,
     "metadata": {},
     "output_type": "execute_result"
    }
   ],
   "source": [
    "model['w']"
   ]
  },
  {
   "cell_type": "code",
   "execution_count": null,
   "metadata": {},
   "outputs": [],
   "source": []
  }
 ],
 "metadata": {
  "kernelspec": {
   "display_name": "Python 3",
   "language": "python",
   "name": "python3"
  },
  "language_info": {
   "codemirror_mode": {
    "name": "ipython",
    "version": 3
   },
   "file_extension": ".py",
   "mimetype": "text/x-python",
   "name": "python",
   "nbconvert_exporter": "python",
   "pygments_lexer": "ipython3",
   "version": "3.7.4"
  }
 },
 "nbformat": 4,
 "nbformat_minor": 2
}
