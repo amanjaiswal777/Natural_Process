{
 "cells": [
  {
   "cell_type": "code",
   "execution_count": 1,
   "metadata": {},
   "outputs": [],
   "source": [
    "import pandas as pd"
   ]
  },
  {
   "cell_type": "code",
   "execution_count": 2,
   "metadata": {},
   "outputs": [
    {
     "name": "stdout",
     "output_type": "stream",
     "text": [
      "[2 5 8 3]\n"
     ]
    }
   ],
   "source": [
    "#Lets create a series object\n",
    "s_1 = pd.Series([2,5,8,3])\n",
    "print(s_1.values)"
   ]
  },
  {
   "cell_type": "code",
   "execution_count": 3,
   "metadata": {},
   "outputs": [
    {
     "data": {
      "text/plain": [
       "RangeIndex(start=0, stop=4, step=1)"
      ]
     },
     "execution_count": 3,
     "metadata": {},
     "output_type": "execute_result"
    }
   ],
   "source": [
    "s_1.index"
   ]
  },
  {
   "cell_type": "code",
   "execution_count": 4,
   "metadata": {},
   "outputs": [],
   "source": [
    "s_1.index = ['a', 'g', 'q', 'k']"
   ]
  },
  {
   "cell_type": "code",
   "execution_count": 5,
   "metadata": {},
   "outputs": [
    {
     "name": "stdout",
     "output_type": "stream",
     "text": [
      "[2 5 8 3]\n"
     ]
    }
   ],
   "source": [
    "print(s_1.values)"
   ]
  },
  {
   "cell_type": "code",
   "execution_count": 6,
   "metadata": {},
   "outputs": [
    {
     "data": {
      "text/plain": [
       "Index(['a', 'g', 'q', 'k'], dtype='object')"
      ]
     },
     "execution_count": 6,
     "metadata": {},
     "output_type": "execute_result"
    }
   ],
   "source": [
    "s_1.index"
   ]
  },
  {
   "cell_type": "code",
   "execution_count": 7,
   "metadata": {},
   "outputs": [
    {
     "data": {
      "text/plain": [
       "8"
      ]
     },
     "execution_count": 7,
     "metadata": {},
     "output_type": "execute_result"
    }
   ],
   "source": [
    "s_1.q"
   ]
  },
  {
   "cell_type": "code",
   "execution_count": 8,
   "metadata": {},
   "outputs": [],
   "source": [
    "#Creatingb dataframe using pandas\n",
    "df = {'Names': ['Aman', 'Anuj', 'Dheeraj'],\n",
    "     'Age': [21,22,28],\n",
    "     'Subject': ['Eng', 'Maths', 'Science']}"
   ]
  },
  {
   "cell_type": "code",
   "execution_count": 9,
   "metadata": {},
   "outputs": [],
   "source": [
    "class_df = pd.DataFrame(df, index = ['Enployer_1', 'employer_2', 'Enmbhcd_3'], columns= ['Names', 'Age', 'Subject'])"
   ]
  },
  {
   "cell_type": "code",
   "execution_count": 10,
   "metadata": {},
   "outputs": [
    {
     "name": "stdout",
     "output_type": "stream",
     "text": [
      "              Names  Age  Subject\n",
      "Enployer_1     Aman   21      Eng\n",
      "employer_2     Anuj   22    Maths\n",
      "Enmbhcd_3   Dheeraj   28  Science\n"
     ]
    }
   ],
   "source": [
    "print(class_df)"
   ]
  },
  {
   "cell_type": "code",
   "execution_count": 11,
   "metadata": {},
   "outputs": [
    {
     "data": {
      "text/plain": [
       "Enployer_1       Aman\n",
       "employer_2       Anuj\n",
       "Enmbhcd_3     Dheeraj\n",
       "Name: Names, dtype: object"
      ]
     },
     "execution_count": 11,
     "metadata": {},
     "output_type": "execute_result"
    }
   ],
   "source": [
    "class_df.Names"
   ]
  },
  {
   "cell_type": "code",
   "execution_count": 13,
   "metadata": {},
   "outputs": [],
   "source": [
    "#Lets add new entry to the dataframe\n",
    "import numpy as np\n"
   ]
  },
  {
   "cell_type": "code",
   "execution_count": 14,
   "metadata": {},
   "outputs": [
    {
     "name": "stderr",
     "output_type": "stream",
     "text": [
      "/home/aman/anaconda3/lib/python3.7/site-packages/ipykernel_launcher.py:1: FutureWarning: \n",
      ".ix is deprecated. Please use\n",
      ".loc for label based indexing or\n",
      ".iloc for positional indexing\n",
      "\n",
      "See the documentation here:\n",
      "http://pandas.pydata.org/pandas-docs/stable/user_guide/indexing.html#ix-indexer-is-deprecated\n",
      "  \"\"\"Entry point for launching an IPython kernel.\n"
     ]
    }
   ],
   "source": [
    "class_df.ix['Employer_4'] = ['Ashay', np.nan, 'History']"
   ]
  },
  {
   "cell_type": "code",
   "execution_count": 15,
   "metadata": {},
   "outputs": [
    {
     "data": {
      "text/html": [
       "<div>\n",
       "<style scoped>\n",
       "    .dataframe tbody tr th:only-of-type {\n",
       "        vertical-align: middle;\n",
       "    }\n",
       "\n",
       "    .dataframe tbody tr th {\n",
       "        vertical-align: top;\n",
       "    }\n",
       "\n",
       "    .dataframe thead th {\n",
       "        text-align: right;\n",
       "    }\n",
       "</style>\n",
       "<table border=\"1\" class=\"dataframe\">\n",
       "  <thead>\n",
       "    <tr style=\"text-align: right;\">\n",
       "      <th></th>\n",
       "      <th>Enployer_1</th>\n",
       "      <th>employer_2</th>\n",
       "      <th>Enmbhcd_3</th>\n",
       "      <th>Employer_4</th>\n",
       "    </tr>\n",
       "  </thead>\n",
       "  <tbody>\n",
       "    <tr>\n",
       "      <td>Names</td>\n",
       "      <td>Aman</td>\n",
       "      <td>Anuj</td>\n",
       "      <td>Dheeraj</td>\n",
       "      <td>Ashay</td>\n",
       "    </tr>\n",
       "    <tr>\n",
       "      <td>Age</td>\n",
       "      <td>21</td>\n",
       "      <td>22</td>\n",
       "      <td>28</td>\n",
       "      <td>NaN</td>\n",
       "    </tr>\n",
       "    <tr>\n",
       "      <td>Subject</td>\n",
       "      <td>Eng</td>\n",
       "      <td>Maths</td>\n",
       "      <td>Science</td>\n",
       "      <td>History</td>\n",
       "    </tr>\n",
       "  </tbody>\n",
       "</table>\n",
       "</div>"
      ],
      "text/plain": [
       "        Enployer_1 employer_2 Enmbhcd_3 Employer_4\n",
       "Names         Aman       Anuj   Dheeraj      Ashay\n",
       "Age             21         22        28        NaN\n",
       "Subject        Eng      Maths   Science    History"
      ]
     },
     "execution_count": 15,
     "metadata": {},
     "output_type": "execute_result"
    }
   ],
   "source": [
    "class_df.T"
   ]
  },
  {
   "cell_type": "code",
   "execution_count": 16,
   "metadata": {},
   "outputs": [
    {
     "data": {
      "text/html": [
       "<div>\n",
       "<style scoped>\n",
       "    .dataframe tbody tr th:only-of-type {\n",
       "        vertical-align: middle;\n",
       "    }\n",
       "\n",
       "    .dataframe tbody tr th {\n",
       "        vertical-align: top;\n",
       "    }\n",
       "\n",
       "    .dataframe thead th {\n",
       "        text-align: right;\n",
       "    }\n",
       "</style>\n",
       "<table border=\"1\" class=\"dataframe\">\n",
       "  <thead>\n",
       "    <tr style=\"text-align: right;\">\n",
       "      <th></th>\n",
       "      <th>0</th>\n",
       "      <th>Age</th>\n",
       "      <th>Names</th>\n",
       "      <th>Subject</th>\n",
       "    </tr>\n",
       "  </thead>\n",
       "  <tbody>\n",
       "    <tr>\n",
       "      <td>Enployer_1</td>\n",
       "      <td>NaN</td>\n",
       "      <td>21.0</td>\n",
       "      <td>Aman</td>\n",
       "      <td>Eng</td>\n",
       "    </tr>\n",
       "    <tr>\n",
       "      <td>employer_2</td>\n",
       "      <td>NaN</td>\n",
       "      <td>22.0</td>\n",
       "      <td>Anuj</td>\n",
       "      <td>Maths</td>\n",
       "    </tr>\n",
       "    <tr>\n",
       "      <td>Enmbhcd_3</td>\n",
       "      <td>NaN</td>\n",
       "      <td>28.0</td>\n",
       "      <td>Dheeraj</td>\n",
       "      <td>Science</td>\n",
       "    </tr>\n",
       "    <tr>\n",
       "      <td>Employer_4</td>\n",
       "      <td>NaN</td>\n",
       "      <td>NaN</td>\n",
       "      <td>Ashay</td>\n",
       "      <td>History</td>\n",
       "    </tr>\n",
       "    <tr>\n",
       "      <td>0</td>\n",
       "      <td>Aman</td>\n",
       "      <td>NaN</td>\n",
       "      <td>NaN</td>\n",
       "      <td>NaN</td>\n",
       "    </tr>\n",
       "    <tr>\n",
       "      <td>1</td>\n",
       "      <td>NaN</td>\n",
       "      <td>NaN</td>\n",
       "      <td>NaN</td>\n",
       "      <td>NaN</td>\n",
       "    </tr>\n",
       "    <tr>\n",
       "      <td>2</td>\n",
       "      <td>chemistry</td>\n",
       "      <td>NaN</td>\n",
       "      <td>NaN</td>\n",
       "      <td>NaN</td>\n",
       "    </tr>\n",
       "  </tbody>\n",
       "</table>\n",
       "</div>"
      ],
      "text/plain": [
       "                    0   Age    Names  Subject\n",
       "Enployer_1        NaN  21.0     Aman      Eng\n",
       "employer_2        NaN  22.0     Anuj    Maths\n",
       "Enmbhcd_3         NaN  28.0  Dheeraj  Science\n",
       "Employer_4        NaN   NaN    Ashay  History\n",
       "0                Aman   NaN      NaN      NaN\n",
       "1                 NaN   NaN      NaN      NaN\n",
       "2           chemistry   NaN      NaN      NaN"
      ]
     },
     "execution_count": 16,
     "metadata": {},
     "output_type": "execute_result"
    }
   ],
   "source": [
    "class_df.append(['Aman', np.nan, 'chemistry'])"
   ]
  },
  {
   "cell_type": "code",
   "execution_count": 17,
   "metadata": {},
   "outputs": [
    {
     "data": {
      "text/html": [
       "<div>\n",
       "<style scoped>\n",
       "    .dataframe tbody tr th:only-of-type {\n",
       "        vertical-align: middle;\n",
       "    }\n",
       "\n",
       "    .dataframe tbody tr th {\n",
       "        vertical-align: top;\n",
       "    }\n",
       "\n",
       "    .dataframe thead th {\n",
       "        text-align: right;\n",
       "    }\n",
       "</style>\n",
       "<table border=\"1\" class=\"dataframe\">\n",
       "  <thead>\n",
       "    <tr style=\"text-align: right;\">\n",
       "      <th></th>\n",
       "      <th>Names</th>\n",
       "      <th>Age</th>\n",
       "      <th>Subject</th>\n",
       "    </tr>\n",
       "  </thead>\n",
       "  <tbody>\n",
       "    <tr>\n",
       "      <td>Enployer_1</td>\n",
       "      <td>Aman</td>\n",
       "      <td>21.0</td>\n",
       "      <td>Eng</td>\n",
       "    </tr>\n",
       "    <tr>\n",
       "      <td>employer_2</td>\n",
       "      <td>Anuj</td>\n",
       "      <td>22.0</td>\n",
       "      <td>Maths</td>\n",
       "    </tr>\n",
       "    <tr>\n",
       "      <td>Employer_4</td>\n",
       "      <td>Ashay</td>\n",
       "      <td>NaN</td>\n",
       "      <td>History</td>\n",
       "    </tr>\n",
       "    <tr>\n",
       "      <td>Enmbhcd_3</td>\n",
       "      <td>Dheeraj</td>\n",
       "      <td>28.0</td>\n",
       "      <td>Science</td>\n",
       "    </tr>\n",
       "  </tbody>\n",
       "</table>\n",
       "</div>"
      ],
      "text/plain": [
       "              Names   Age  Subject\n",
       "Enployer_1     Aman  21.0      Eng\n",
       "employer_2     Anuj  22.0    Maths\n",
       "Employer_4    Ashay   NaN  History\n",
       "Enmbhcd_3   Dheeraj  28.0  Science"
      ]
     },
     "execution_count": 17,
     "metadata": {},
     "output_type": "execute_result"
    }
   ],
   "source": [
    "class_df.sort_values(by='Names')"
   ]
  },
  {
   "cell_type": "code",
   "execution_count": 18,
   "metadata": {},
   "outputs": [],
   "source": [
    "#Lets add one more to the given dataset of the series object\n",
    "col_entry = pd.Series(['A', 'B', 'A+', 'C'], index = ['Enployer_1', 'employer_2', 'Employer_4', 'Enmbhcd_3'])"
   ]
  },
  {
   "cell_type": "code",
   "execution_count": 19,
   "metadata": {},
   "outputs": [],
   "source": [
    "class_df['Grades'] = col_entry"
   ]
  },
  {
   "cell_type": "code",
   "execution_count": 21,
   "metadata": {},
   "outputs": [
    {
     "name": "stdout",
     "output_type": "stream",
     "text": [
      "              Names   Age  Subject Grades\n",
      "Enployer_1     Aman  21.0      Eng      A\n",
      "employer_2     Anuj  22.0    Maths      B\n",
      "Enmbhcd_3   Dheeraj  28.0  Science      C\n",
      "Employer_4    Ashay   NaN  History     A+\n"
     ]
    }
   ],
   "source": [
    "print(class_df)"
   ]
  },
  {
   "cell_type": "code",
   "execution_count": 22,
   "metadata": {},
   "outputs": [],
   "source": [
    "#finding the missing entries in the dataframe\n",
    "class_df.fillna(10, inplace=True)"
   ]
  },
  {
   "cell_type": "code",
   "execution_count": 23,
   "metadata": {},
   "outputs": [
    {
     "name": "stdout",
     "output_type": "stream",
     "text": [
      "              Names   Age  Subject Grades\n",
      "Enployer_1     Aman  21.0      Eng      A\n",
      "employer_2     Anuj  22.0    Maths      B\n",
      "Enmbhcd_3   Dheeraj  28.0  Science      C\n",
      "Employer_4    Ashay  10.0  History     A+\n"
     ]
    }
   ],
   "source": [
    "print(class_df)"
   ]
  },
  {
   "cell_type": "code",
   "execution_count": 24,
   "metadata": {},
   "outputs": [],
   "source": [
    "#Lets now concatenate the two dataframe\n",
    "exp = pd.DataFrame(data = {'Experience': [1,0,1,2]}, index = ['Enployer_1', 'employer_2', 'Employer_4', 'Enmbhcd_3'])"
   ]
  },
  {
   "cell_type": "code",
   "execution_count": 26,
   "metadata": {},
   "outputs": [
    {
     "name": "stdout",
     "output_type": "stream",
     "text": [
      "            Experience\n",
      "Enployer_1           1\n",
      "employer_2           0\n",
      "Employer_4           1\n",
      "Enmbhcd_3            2\n"
     ]
    }
   ],
   "source": [
    "print(exp)"
   ]
  },
  {
   "cell_type": "code",
   "execution_count": 27,
   "metadata": {},
   "outputs": [
    {
     "name": "stderr",
     "output_type": "stream",
     "text": [
      "/home/aman/anaconda3/lib/python3.7/site-packages/ipykernel_launcher.py:1: FutureWarning: Sorting because non-concatenation axis is not aligned. A future version\n",
      "of pandas will change to not sort by default.\n",
      "\n",
      "To accept the future behavior, pass 'sort=False'.\n",
      "\n",
      "To retain the current behavior and silence the warning, pass 'sort=True'.\n",
      "\n",
      "  \"\"\"Entry point for launching an IPython kernel.\n"
     ]
    }
   ],
   "source": [
    "class_data = pd.concat([class_df, exp], axis=1)"
   ]
  },
  {
   "cell_type": "code",
   "execution_count": 28,
   "metadata": {},
   "outputs": [
    {
     "name": "stdout",
     "output_type": "stream",
     "text": [
      "              Names   Age  Subject Grades  Experience\n",
      "Employer_4    Ashay  10.0  History     A+           1\n",
      "Enmbhcd_3   Dheeraj  28.0  Science      C           2\n",
      "Enployer_1     Aman  21.0      Eng      A           1\n",
      "employer_2     Anuj  22.0    Maths      B           0\n"
     ]
    }
   ],
   "source": [
    "print(class_data)"
   ]
  },
  {
   "cell_type": "code",
   "execution_count": 30,
   "metadata": {},
   "outputs": [
    {
     "name": "stderr",
     "output_type": "stream",
     "text": [
      "/home/aman/anaconda3/lib/python3.7/site-packages/ipykernel_launcher.py:1: FutureWarning: Sorting because non-concatenation axis is not aligned. A future version\n",
      "of pandas will change to not sort by default.\n",
      "\n",
      "To accept the future behavior, pass 'sort=False'.\n",
      "\n",
      "To retain the current behavior and silence the warning, pass 'sort=True'.\n",
      "\n",
      "  \"\"\"Entry point for launching an IPython kernel.\n"
     ]
    }
   ],
   "source": [
    "class_data_1 = pd.concat([class_df, exp], axis=0)"
   ]
  },
  {
   "cell_type": "code",
   "execution_count": 31,
   "metadata": {},
   "outputs": [
    {
     "name": "stdout",
     "output_type": "stream",
     "text": [
      "             Age  Experience Grades    Names  Subject\n",
      "Enployer_1  21.0         NaN      A     Aman      Eng\n",
      "employer_2  22.0         NaN      B     Anuj    Maths\n",
      "Enmbhcd_3   28.0         NaN      C  Dheeraj  Science\n",
      "Employer_4  10.0         NaN     A+    Ashay  History\n",
      "Enployer_1   NaN         1.0    NaN      NaN      NaN\n",
      "employer_2   NaN         0.0    NaN      NaN      NaN\n",
      "Employer_4   NaN         1.0    NaN      NaN      NaN\n",
      "Enmbhcd_3    NaN         2.0    NaN      NaN      NaN\n"
     ]
    }
   ],
   "source": [
    "print(class_data_1)"
   ]
  },
  {
   "cell_type": "code",
   "execution_count": 32,
   "metadata": {},
   "outputs": [
    {
     "data": {
      "text/plain": [
       "Employer_4      AshayNm\n",
       "Enmbhcd_3     DheerajNm\n",
       "Enployer_1       AmanNm\n",
       "employer_2       AnujNm\n",
       "Name: Names, dtype: object"
      ]
     },
     "execution_count": 32,
     "metadata": {},
     "output_type": "execute_result"
    }
   ],
   "source": [
    "#Map Functon\n",
    "class_data['Names'] = class_data['Names'].map(lambda x : x + 'Nm')\n",
    "class_data['Names']"
   ]
  },
  {
   "cell_type": "code",
   "execution_count": 33,
   "metadata": {},
   "outputs": [
    {
     "name": "stdout",
     "output_type": "stream",
     "text": [
      "Employer_4    10.0\n",
      "Enmbhcd_3     28.0\n",
      "Enployer_1    21.0\n",
      "employer_2    22.0\n",
      "Name: Age, dtype: float64\n"
     ]
    }
   ],
   "source": [
    "#Apply function\n",
    "def age_add(X):\n",
    "    return X+1\n",
    "\n",
    "print(class_data['Age'])"
   ]
  },
  {
   "cell_type": "code",
   "execution_count": 34,
   "metadata": {},
   "outputs": [
    {
     "name": "stdout",
     "output_type": "stream",
     "text": [
      "Employer_4    11.0\n",
      "Enmbhcd_3     29.0\n",
      "Enployer_1    22.0\n",
      "employer_2    23.0\n",
      "Name: Age, dtype: float64\n"
     ]
    }
   ],
   "source": [
    "print(class_data['Age'].apply(age_add))"
   ]
  },
  {
   "cell_type": "code",
   "execution_count": 35,
   "metadata": {},
   "outputs": [],
   "source": [
    "#changing datatype of the columns\n",
    "class_data['Grades'] = class_data['Grades'].astype('category')"
   ]
  },
  {
   "cell_type": "code",
   "execution_count": 36,
   "metadata": {},
   "outputs": [
    {
     "data": {
      "text/plain": [
       "CategoricalDtype(categories=['A', 'A+', 'B', 'C'], ordered=False)"
      ]
     },
     "execution_count": 36,
     "metadata": {},
     "output_type": "execute_result"
    }
   ],
   "source": [
    "class_data.Grades.dtypes"
   ]
  },
  {
   "cell_type": "code",
   "execution_count": 37,
   "metadata": {},
   "outputs": [],
   "source": [
    "#Storing the whole result of the prepared dataset using the pandas and the num[py function\n",
    "class_data.to_csv('abc.csv', index = False)"
   ]
  },
  {
   "cell_type": "code",
   "execution_count": null,
   "metadata": {},
   "outputs": [],
   "source": []
  }
 ],
 "metadata": {
  "kernelspec": {
   "display_name": "Python 3",
   "language": "python",
   "name": "python3"
  },
  "language_info": {
   "codemirror_mode": {
    "name": "ipython",
    "version": 3
   },
   "file_extension": ".py",
   "mimetype": "text/x-python",
   "name": "python",
   "nbconvert_exporter": "python",
   "pygments_lexer": "ipython3",
   "version": "3.7.4"
  }
 },
 "nbformat": 4,
 "nbformat_minor": 2
}
