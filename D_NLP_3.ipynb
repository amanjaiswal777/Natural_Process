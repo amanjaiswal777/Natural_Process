{
 "cells": [
  {
   "cell_type": "code",
   "execution_count": 1,
   "metadata": {},
   "outputs": [
    {
     "name": "stdout",
     "output_type": "stream",
     "text": [
      "Requirement already satisfied: spacy in /home/aman/anaconda3/lib/python3.7/site-packages (2.2.3)\n",
      "Requirement already satisfied: blis<0.5.0,>=0.4.0 in /home/aman/anaconda3/lib/python3.7/site-packages (from spacy) (0.4.1)\n",
      "Requirement already satisfied: plac<1.2.0,>=0.9.6 in /home/aman/anaconda3/lib/python3.7/site-packages (from spacy) (1.1.3)\n",
      "Requirement already satisfied: requests<3.0.0,>=2.13.0 in /home/aman/anaconda3/lib/python3.7/site-packages (from spacy) (2.22.0)\n",
      "Requirement already satisfied: cymem<2.1.0,>=2.0.2 in /home/aman/anaconda3/lib/python3.7/site-packages (from spacy) (2.0.3)\n",
      "Requirement already satisfied: murmurhash<1.1.0,>=0.28.0 in /home/aman/anaconda3/lib/python3.7/site-packages (from spacy) (1.0.2)\n",
      "Requirement already satisfied: preshed<3.1.0,>=3.0.2 in /home/aman/anaconda3/lib/python3.7/site-packages (from spacy) (3.0.2)\n",
      "Requirement already satisfied: numpy>=1.15.0 in /home/aman/anaconda3/lib/python3.7/site-packages (from spacy) (1.17.2)\n",
      "Requirement already satisfied: wasabi<1.1.0,>=0.4.0 in /home/aman/anaconda3/lib/python3.7/site-packages (from spacy) (0.6.0)\n",
      "Requirement already satisfied: catalogue<1.1.0,>=0.0.7 in /home/aman/anaconda3/lib/python3.7/site-packages (from spacy) (1.0.0)\n",
      "Requirement already satisfied: thinc<7.4.0,>=7.3.0 in /home/aman/anaconda3/lib/python3.7/site-packages (from spacy) (7.3.1)\n",
      "Requirement already satisfied: srsly<1.1.0,>=0.1.0 in /home/aman/anaconda3/lib/python3.7/site-packages (from spacy) (1.0.1)\n",
      "Requirement already satisfied: setuptools in /home/aman/anaconda3/lib/python3.7/site-packages (from spacy) (41.4.0)\n",
      "Requirement already satisfied: certifi>=2017.4.17 in /home/aman/anaconda3/lib/python3.7/site-packages (from requests<3.0.0,>=2.13.0->spacy) (2019.9.11)\n",
      "Requirement already satisfied: urllib3!=1.25.0,!=1.25.1,<1.26,>=1.21.1 in /home/aman/anaconda3/lib/python3.7/site-packages (from requests<3.0.0,>=2.13.0->spacy) (1.24.2)\n",
      "Requirement already satisfied: chardet<3.1.0,>=3.0.2 in /home/aman/anaconda3/lib/python3.7/site-packages (from requests<3.0.0,>=2.13.0->spacy) (3.0.4)\n",
      "Requirement already satisfied: idna<2.9,>=2.5 in /home/aman/anaconda3/lib/python3.7/site-packages (from requests<3.0.0,>=2.13.0->spacy) (2.8)\n",
      "Requirement already satisfied: importlib-metadata>=0.20; python_version < \"3.8\" in /home/aman/anaconda3/lib/python3.7/site-packages (from catalogue<1.1.0,>=0.0.7->spacy) (0.23)\n",
      "Requirement already satisfied: tqdm<5.0.0,>=4.10.0 in /home/aman/anaconda3/lib/python3.7/site-packages (from thinc<7.4.0,>=7.3.0->spacy) (4.36.1)\n",
      "Requirement already satisfied: zipp>=0.5 in /home/aman/anaconda3/lib/python3.7/site-packages (from importlib-metadata>=0.20; python_version < \"3.8\"->catalogue<1.1.0,>=0.0.7->spacy) (0.6.0)\n",
      "Requirement already satisfied: more-itertools in /home/aman/anaconda3/lib/python3.7/site-packages (from zipp>=0.5->importlib-metadata>=0.20; python_version < \"3.8\"->catalogue<1.1.0,>=0.0.7->spacy) (7.2.0)\n"
     ]
    }
   ],
   "source": [
    "!pip install spacy"
   ]
  },
  {
   "cell_type": "code",
   "execution_count": 2,
   "metadata": {},
   "outputs": [
    {
     "name": "stdout",
     "output_type": "stream",
     "text": [
      "Collecting en_core_web_lg==2.2.5 from https://github.com/explosion/spacy-models/releases/download/en_core_web_lg-2.2.5/en_core_web_lg-2.2.5.tar.gz#egg=en_core_web_lg==2.2.5\n",
      "\u001b[?25l  Downloading https://github.com/explosion/spacy-models/releases/download/en_core_web_lg-2.2.5/en_core_web_lg-2.2.5.tar.gz (827.9MB)\n",
      "\u001b[K     |████████████████████████████████| 827.9MB 753kB/s eta 0:00:012     |██████████                      | 256.9MB 7.0MB/s eta 0:01:22                 | 278.4MB 294kB/s eta 0:31:04████▌                | 402.1MB 2.8MB/s eta 0:02:32     |████████████████████▎           | 525.3MB 6.3MB/s eta 0:00:48MB/s eta 0:00:14MB/s eta 0:00:12   | 702.2MB 486kB/s eta 0:04:19   | 704.2MB 511kB/s eta 0:04:0200:09█████████▏  | 754.5MB 282kB/s eta 0:04:20��█████████████████████████▍  | 761.1MB 12.0MB/s eta 0:00:06��█████████████████████████▌  | 761.9MB 12.0MB/s eta 0:00:06��████████████████████▌  | 763.4MB 874kB/s eta 0:01:14��████████████████████▌  | 764.2MB 874kB/s eta 0:01:13��████████████████████▊  | 769.7MB 7.5MB/s eta 0:00:08��██████████████████████████  | 775.7MB 11.1MB/s eta 0:00:05��█████████████████████  | 778.5MB 1.4MB/s eta 0:00:36    |██████████████████████████████▌ | 788.1MB 3.6MB/s eta 0:00:12ta 0:00:031.0MB 222kB/s eta 0:00:31\n",
      "\u001b[?25hRequirement already satisfied: spacy>=2.2.2 in /home/aman/anaconda3/lib/python3.7/site-packages (from en_core_web_lg==2.2.5) (2.2.3)\n",
      "Requirement already satisfied: catalogue<1.1.0,>=0.0.7 in /home/aman/anaconda3/lib/python3.7/site-packages (from spacy>=2.2.2->en_core_web_lg==2.2.5) (1.0.0)\n",
      "Requirement already satisfied: setuptools in /home/aman/anaconda3/lib/python3.7/site-packages (from spacy>=2.2.2->en_core_web_lg==2.2.5) (41.4.0)\n",
      "Requirement already satisfied: murmurhash<1.1.0,>=0.28.0 in /home/aman/anaconda3/lib/python3.7/site-packages (from spacy>=2.2.2->en_core_web_lg==2.2.5) (1.0.2)\n",
      "Requirement already satisfied: cymem<2.1.0,>=2.0.2 in /home/aman/anaconda3/lib/python3.7/site-packages (from spacy>=2.2.2->en_core_web_lg==2.2.5) (2.0.3)\n",
      "Requirement already satisfied: requests<3.0.0,>=2.13.0 in /home/aman/anaconda3/lib/python3.7/site-packages (from spacy>=2.2.2->en_core_web_lg==2.2.5) (2.22.0)\n",
      "Requirement already satisfied: wasabi<1.1.0,>=0.4.0 in /home/aman/anaconda3/lib/python3.7/site-packages (from spacy>=2.2.2->en_core_web_lg==2.2.5) (0.6.0)\n",
      "Requirement already satisfied: plac<1.2.0,>=0.9.6 in /home/aman/anaconda3/lib/python3.7/site-packages (from spacy>=2.2.2->en_core_web_lg==2.2.5) (1.1.3)\n",
      "Requirement already satisfied: numpy>=1.15.0 in /home/aman/anaconda3/lib/python3.7/site-packages (from spacy>=2.2.2->en_core_web_lg==2.2.5) (1.17.2)\n",
      "Requirement already satisfied: preshed<3.1.0,>=3.0.2 in /home/aman/anaconda3/lib/python3.7/site-packages (from spacy>=2.2.2->en_core_web_lg==2.2.5) (3.0.2)\n",
      "Requirement already satisfied: srsly<1.1.0,>=0.1.0 in /home/aman/anaconda3/lib/python3.7/site-packages (from spacy>=2.2.2->en_core_web_lg==2.2.5) (1.0.1)\n",
      "Requirement already satisfied: thinc<7.4.0,>=7.3.0 in /home/aman/anaconda3/lib/python3.7/site-packages (from spacy>=2.2.2->en_core_web_lg==2.2.5) (7.3.1)\n",
      "Requirement already satisfied: blis<0.5.0,>=0.4.0 in /home/aman/anaconda3/lib/python3.7/site-packages (from spacy>=2.2.2->en_core_web_lg==2.2.5) (0.4.1)\n",
      "Requirement already satisfied: importlib-metadata>=0.20; python_version < \"3.8\" in /home/aman/anaconda3/lib/python3.7/site-packages (from catalogue<1.1.0,>=0.0.7->spacy>=2.2.2->en_core_web_lg==2.2.5) (0.23)\n",
      "Requirement already satisfied: idna<2.9,>=2.5 in /home/aman/anaconda3/lib/python3.7/site-packages (from requests<3.0.0,>=2.13.0->spacy>=2.2.2->en_core_web_lg==2.2.5) (2.8)\n",
      "Requirement already satisfied: certifi>=2017.4.17 in /home/aman/anaconda3/lib/python3.7/site-packages (from requests<3.0.0,>=2.13.0->spacy>=2.2.2->en_core_web_lg==2.2.5) (2019.9.11)\n",
      "Requirement already satisfied: urllib3!=1.25.0,!=1.25.1,<1.26,>=1.21.1 in /home/aman/anaconda3/lib/python3.7/site-packages (from requests<3.0.0,>=2.13.0->spacy>=2.2.2->en_core_web_lg==2.2.5) (1.24.2)\n",
      "Requirement already satisfied: chardet<3.1.0,>=3.0.2 in /home/aman/anaconda3/lib/python3.7/site-packages (from requests<3.0.0,>=2.13.0->spacy>=2.2.2->en_core_web_lg==2.2.5) (3.0.4)\n",
      "Requirement already satisfied: tqdm<5.0.0,>=4.10.0 in /home/aman/anaconda3/lib/python3.7/site-packages (from thinc<7.4.0,>=7.3.0->spacy>=2.2.2->en_core_web_lg==2.2.5) (4.36.1)\n",
      "Requirement already satisfied: zipp>=0.5 in /home/aman/anaconda3/lib/python3.7/site-packages (from importlib-metadata>=0.20; python_version < \"3.8\"->catalogue<1.1.0,>=0.0.7->spacy>=2.2.2->en_core_web_lg==2.2.5) (0.6.0)\n",
      "Requirement already satisfied: more-itertools in /home/aman/anaconda3/lib/python3.7/site-packages (from zipp>=0.5->importlib-metadata>=0.20; python_version < \"3.8\"->catalogue<1.1.0,>=0.0.7->spacy>=2.2.2->en_core_web_lg==2.2.5) (7.2.0)\n",
      "Building wheels for collected packages: en-core-web-lg\n",
      "  Building wheel for en-core-web-lg (setup.py) ... \u001b[?25ldone\n",
      "\u001b[?25h  Created wheel for en-core-web-lg: filename=en_core_web_lg-2.2.5-cp37-none-any.whl size=829180945 sha256=5d0138a08ea75ca0d5bd02cc49d0131a3bfc026386aa363ab14afc436e32e530\n",
      "  Stored in directory: /tmp/pip-ephem-wheel-cache-7spikpr6/wheels/2a/c1/a6/fc7a877b1efca9bc6a089d6f506f16d3868408f9ff89f8dbfc\n",
      "Successfully built en-core-web-lg\n",
      "Installing collected packages: en-core-web-lg\n",
      "Successfully installed en-core-web-lg-2.2.5\n",
      "\u001b[38;5;2m✔ Download and installation successful\u001b[0m\n",
      "You can now load the model via spacy.load('en_core_web_lg')\n"
     ]
    }
   ],
   "source": [
    "!python -m spacy download en_core_web_lg"
   ]
  },
  {
   "cell_type": "code",
   "execution_count": 3,
   "metadata": {},
   "outputs": [],
   "source": [
    "import spacy\n",
    "from spacy import displacy\n",
    "#Displacy is used for the visualizxation purpose\n",
    "nlp = spacy.load('en_core_web_lg')"
   ]
  },
  {
   "cell_type": "code",
   "execution_count": 4,
   "metadata": {},
   "outputs": [
    {
     "data": {
      "text/plain": [
       "'2.2.3'"
      ]
     },
     "execution_count": 4,
     "metadata": {},
     "output_type": "execute_result"
    }
   ],
   "source": [
    "spacy.__version__"
   ]
  },
  {
   "cell_type": "code",
   "execution_count": 5,
   "metadata": {},
   "outputs": [
    {
     "name": "stdout",
     "output_type": "stream",
     "text": [
      "Collecting textacy\n",
      "\u001b[?25l  Downloading https://files.pythonhosted.org/packages/3a/5e/3b8391cf6ff39350b73f8421184cf6792002b5c2c17982b7c9fbd5ff36de/textacy-0.9.1-py3-none-any.whl (203kB)\n",
      "\u001b[K     |████████████████████████████████| 204kB 7.2MB/s eta 0:00:01\n",
      "\u001b[?25hRequirement already satisfied: numpy>=1.17.0 in /home/aman/anaconda3/lib/python3.7/site-packages (from textacy) (1.17.2)\n",
      "Requirement already satisfied: tqdm>=4.19.6 in /home/aman/anaconda3/lib/python3.7/site-packages (from textacy) (4.36.1)\n",
      "Requirement already satisfied: scikit-learn>=0.19.0 in /home/aman/anaconda3/lib/python3.7/site-packages (from textacy) (0.21.3)\n",
      "Requirement already satisfied: srsly>=0.0.5 in /home/aman/anaconda3/lib/python3.7/site-packages (from textacy) (1.0.1)\n",
      "Requirement already satisfied: spacy>=2.0.12 in /home/aman/anaconda3/lib/python3.7/site-packages (from textacy) (2.2.3)\n",
      "Requirement already satisfied: requests>=2.10.0 in /home/aman/anaconda3/lib/python3.7/site-packages (from textacy) (2.22.0)\n",
      "Collecting pyphen>=0.9.4 (from textacy)\n",
      "\u001b[?25l  Downloading https://files.pythonhosted.org/packages/15/82/08a3629dce8d1f3d91db843bb36d4d7db6b6269d5067259613a0d5c8a9db/Pyphen-0.9.5-py2.py3-none-any.whl (3.0MB)\n",
      "\u001b[K     |████████████████████████████████| 3.0MB 11.1MB/s eta 0:00:01\n",
      "\u001b[?25hCollecting pyemd>=0.5.0 (from textacy)\n",
      "\u001b[?25l  Downloading https://files.pythonhosted.org/packages/c0/c5/7fea8e7a71cd026b30ed3c40e4c5ea13a173e28f8855da17e25271e8f545/pyemd-0.5.1.tar.gz (91kB)\n",
      "\u001b[K     |████████████████████████████████| 92kB 10.4MB/s eta 0:00:01\n",
      "\u001b[?25hRequirement already satisfied: jellyfish>=0.7.0 in /home/aman/anaconda3/lib/python3.7/site-packages (from textacy) (0.7.2)\n",
      "Requirement already satisfied: scipy>=0.17.0 in /home/aman/anaconda3/lib/python3.7/site-packages (from textacy) (1.4.1)\n",
      "Requirement already satisfied: joblib>=0.13.0 in /home/aman/anaconda3/lib/python3.7/site-packages (from textacy) (0.13.2)\n",
      "Requirement already satisfied: networkx>=2.0 in /home/aman/anaconda3/lib/python3.7/site-packages (from textacy) (2.3)\n",
      "Requirement already satisfied: cachetools>=2.0.1 in /home/aman/anaconda3/lib/python3.7/site-packages (from textacy) (4.0.0)\n",
      "Requirement already satisfied: cytoolz>=0.8.0 in /home/aman/anaconda3/lib/python3.7/site-packages (from textacy) (0.10.0)\n",
      "Requirement already satisfied: setuptools in /home/aman/anaconda3/lib/python3.7/site-packages (from spacy>=2.0.12->textacy) (41.4.0)\n",
      "Requirement already satisfied: blis<0.5.0,>=0.4.0 in /home/aman/anaconda3/lib/python3.7/site-packages (from spacy>=2.0.12->textacy) (0.4.1)\n",
      "Requirement already satisfied: cymem<2.1.0,>=2.0.2 in /home/aman/anaconda3/lib/python3.7/site-packages (from spacy>=2.0.12->textacy) (2.0.3)\n",
      "Requirement already satisfied: murmurhash<1.1.0,>=0.28.0 in /home/aman/anaconda3/lib/python3.7/site-packages (from spacy>=2.0.12->textacy) (1.0.2)\n",
      "Requirement already satisfied: thinc<7.4.0,>=7.3.0 in /home/aman/anaconda3/lib/python3.7/site-packages (from spacy>=2.0.12->textacy) (7.3.1)\n",
      "Requirement already satisfied: wasabi<1.1.0,>=0.4.0 in /home/aman/anaconda3/lib/python3.7/site-packages (from spacy>=2.0.12->textacy) (0.6.0)\n",
      "Requirement already satisfied: catalogue<1.1.0,>=0.0.7 in /home/aman/anaconda3/lib/python3.7/site-packages (from spacy>=2.0.12->textacy) (1.0.0)\n",
      "Requirement already satisfied: preshed<3.1.0,>=3.0.2 in /home/aman/anaconda3/lib/python3.7/site-packages (from spacy>=2.0.12->textacy) (3.0.2)\n",
      "Requirement already satisfied: plac<1.2.0,>=0.9.6 in /home/aman/anaconda3/lib/python3.7/site-packages (from spacy>=2.0.12->textacy) (1.1.3)\n",
      "Requirement already satisfied: idna<2.9,>=2.5 in /home/aman/anaconda3/lib/python3.7/site-packages (from requests>=2.10.0->textacy) (2.8)\n",
      "Requirement already satisfied: chardet<3.1.0,>=3.0.2 in /home/aman/anaconda3/lib/python3.7/site-packages (from requests>=2.10.0->textacy) (3.0.4)\n",
      "Requirement already satisfied: urllib3!=1.25.0,!=1.25.1,<1.26,>=1.21.1 in /home/aman/anaconda3/lib/python3.7/site-packages (from requests>=2.10.0->textacy) (1.24.2)\n",
      "Requirement already satisfied: certifi>=2017.4.17 in /home/aman/anaconda3/lib/python3.7/site-packages (from requests>=2.10.0->textacy) (2019.9.11)\n",
      "Requirement already satisfied: decorator>=4.3.0 in /home/aman/anaconda3/lib/python3.7/site-packages (from networkx>=2.0->textacy) (4.4.0)\n",
      "Requirement already satisfied: toolz>=0.8.0 in /home/aman/anaconda3/lib/python3.7/site-packages (from cytoolz>=0.8.0->textacy) (0.10.0)\n",
      "Requirement already satisfied: importlib-metadata>=0.20; python_version < \"3.8\" in /home/aman/anaconda3/lib/python3.7/site-packages (from catalogue<1.1.0,>=0.0.7->spacy>=2.0.12->textacy) (0.23)\n",
      "Requirement already satisfied: zipp>=0.5 in /home/aman/anaconda3/lib/python3.7/site-packages (from importlib-metadata>=0.20; python_version < \"3.8\"->catalogue<1.1.0,>=0.0.7->spacy>=2.0.12->textacy) (0.6.0)\n",
      "Requirement already satisfied: more-itertools in /home/aman/anaconda3/lib/python3.7/site-packages (from zipp>=0.5->importlib-metadata>=0.20; python_version < \"3.8\"->catalogue<1.1.0,>=0.0.7->spacy>=2.0.12->textacy) (7.2.0)\n",
      "Building wheels for collected packages: pyemd\n",
      "  Building wheel for pyemd (setup.py) ... \u001b[?25ldone\n",
      "\u001b[?25h  Created wheel for pyemd: filename=pyemd-0.5.1-cp37-cp37m-linux_x86_64.whl size=379170 sha256=87fb15c5fab0cc7f6752a5b3d5b7d2b8e37a0e7ca0880657401b0a1105f91340\n",
      "  Stored in directory: /home/aman/.cache/pip/wheels/e4/ba/b0/1f4178a35c916b22fc51dc56f278125d4b8cfb0592e5f0cc24\n",
      "Successfully built pyemd\n",
      "Installing collected packages: pyphen, pyemd, textacy\n",
      "Successfully installed pyemd-0.5.1 pyphen-0.9.5 textacy-0.9.1\n"
     ]
    }
   ],
   "source": [
    "#Installing textexy\n",
    "!pip install textacy"
   ]
  },
  {
   "cell_type": "code",
   "execution_count": 6,
   "metadata": {},
   "outputs": [],
   "source": [
    "import textacy"
   ]
  },
  {
   "cell_type": "code",
   "execution_count": 8,
   "metadata": {},
   "outputs": [],
   "source": [
    "#Implementing Named entity Recognition using the spacy library\n",
    "\n",
    "text = \"We are wrking in   USTECH Sols and our work is based on the Artificial Intelligence technology whicvh includes many more technologies. We are focused in the field of the machine learning, Deep learning, Natural language processing, computer vision , and te reinmforcement learning. we also deal with the generative adversial network and the quantum mechanics.\""
   ]
  },
  {
   "cell_type": "code",
   "execution_count": 9,
   "metadata": {},
   "outputs": [],
   "source": [
    "doc = nlp(text)"
   ]
  },
  {
   "cell_type": "code",
   "execution_count": 12,
   "metadata": {},
   "outputs": [
    {
     "name": "stdout",
     "output_type": "stream",
     "text": [
      "USTECH Sols (ORG)\n",
      "Artificial Intelligence (ORG)\n",
      "the quantum mechanics (ORG)\n"
     ]
    }
   ],
   "source": [
    "for i in doc.ents:\n",
    "    print(f'{i.text} ({i.label_})')"
   ]
  },
  {
   "cell_type": "code",
   "execution_count": 13,
   "metadata": {},
   "outputs": [
    {
     "data": {
      "text/plain": [
       "(USTECH Sols, Artificial Intelligence, the quantum mechanics)"
      ]
     },
     "execution_count": 13,
     "metadata": {},
     "output_type": "execute_result"
    }
   ],
   "source": [
    "doc.ents"
   ]
  },
  {
   "cell_type": "code",
   "execution_count": 14,
   "metadata": {},
   "outputs": [
    {
     "data": {
      "text/plain": [
       "(383, 'ORG')"
      ]
     },
     "execution_count": 14,
     "metadata": {},
     "output_type": "execute_result"
    }
   ],
   "source": [
    "i.label, i.label_"
   ]
  },
  {
   "cell_type": "code",
   "execution_count": 15,
   "metadata": {},
   "outputs": [
    {
     "data": {
      "text/plain": [
       "'Countries, cities, states'"
      ]
     },
     "execution_count": 15,
     "metadata": {},
     "output_type": "execute_result"
    }
   ],
   "source": [
    "spacy.explain('GPE')"
   ]
  },
  {
   "cell_type": "code",
   "execution_count": null,
   "metadata": {},
   "outputs": [],
   "source": []
  }
 ],
 "metadata": {
  "kernelspec": {
   "display_name": "Python 3",
   "language": "python",
   "name": "python3"
  },
  "language_info": {
   "codemirror_mode": {
    "name": "ipython",
    "version": 3
   },
   "file_extension": ".py",
   "mimetype": "text/x-python",
   "name": "python",
   "nbconvert_exporter": "python",
   "pygments_lexer": "ipython3",
   "version": "3.7.4"
  }
 },
 "nbformat": 4,
 "nbformat_minor": 2
}
