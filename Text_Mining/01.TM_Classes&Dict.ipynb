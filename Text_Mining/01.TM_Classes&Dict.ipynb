{
 "cells": [
  {
   "cell_type": "code",
   "execution_count": 2,
   "metadata": {},
   "outputs": [
    {
     "name": "stdout",
     "output_type": "stream",
     "text": [
      "1\n"
     ]
    }
   ],
   "source": [
    "#Simple\n",
    "\n",
    "x = {\n",
    "    'alpha': 1,\n",
    "    'beta': 2,\n",
    "    'chi': 3\n",
    "}\n",
    "print(x['alpha'])"
   ]
  },
  {
   "cell_type": "code",
   "execution_count": 3,
   "metadata": {},
   "outputs": [
    {
     "name": "stdout",
     "output_type": "stream",
     "text": [
      "{'alpha': 1, 'beta': 2, 'chi': 3, 'delta': 4}\n"
     ]
    }
   ],
   "source": [
    "x['delta'] = 4\n",
    "print(x)"
   ]
  },
  {
   "cell_type": "code",
   "execution_count": 4,
   "metadata": {},
   "outputs": [],
   "source": [
    "x['chi'] = 6"
   ]
  },
  {
   "cell_type": "code",
   "execution_count": 5,
   "metadata": {},
   "outputs": [
    {
     "name": "stdout",
     "output_type": "stream",
     "text": [
      "{'alpha': 1, 'beta': 2, 'chi': 6, 'delta': 4}\n"
     ]
    }
   ],
   "source": [
    "print(x)"
   ]
  },
  {
   "cell_type": "code",
   "execution_count": 6,
   "metadata": {},
   "outputs": [
    {
     "name": "stdout",
     "output_type": "stream",
     "text": [
      "{'alpha': 1, 'beta': 2, 'chi': 3, 'delta': 4}\n"
     ]
    }
   ],
   "source": [
    "x['chi']= 3\n",
    "print(x)"
   ]
  },
  {
   "cell_type": "code",
   "execution_count": 8,
   "metadata": {},
   "outputs": [],
   "source": [
    "#Less Simple\n",
    "\n",
    "y = {\n",
    "    'alpha': ['A', 'B', 'C'],\n",
    "    'beta': [1, 3, 4],\n",
    "    'chi':{\n",
    "        'delta':'one',\n",
    "        'theta':'two'\n",
    "    }\n",
    "}"
   ]
  },
  {
   "cell_type": "code",
   "execution_count": 9,
   "metadata": {},
   "outputs": [
    {
     "name": "stdout",
     "output_type": "stream",
     "text": [
      "{'alpha': 1, 'beta': 2, 'chi': 3, 'delta': 4}\n"
     ]
    }
   ],
   "source": [
    "print(x)"
   ]
  },
  {
   "cell_type": "code",
   "execution_count": 10,
   "metadata": {},
   "outputs": [
    {
     "name": "stdout",
     "output_type": "stream",
     "text": [
      "{'alpha': ['A', 'B', 'C'], 'beta': [1, 3, 4], 'chi': {'delta': 'one', 'theta': 'two'}}\n"
     ]
    }
   ],
   "source": [
    "print(y)"
   ]
  },
  {
   "cell_type": "code",
   "execution_count": 15,
   "metadata": {},
   "outputs": [
    {
     "name": "stdout",
     "output_type": "stream",
     "text": [
      "one\n"
     ]
    }
   ],
   "source": [
    "print(y['chi']['delta'])"
   ]
  },
  {
   "cell_type": "code",
   "execution_count": 17,
   "metadata": {},
   "outputs": [
    {
     "data": {
      "text/plain": [
       "0"
      ]
     },
     "execution_count": 17,
     "metadata": {},
     "output_type": "execute_result"
    }
   ],
   "source": [
    "from collections import defaultdict\n",
    "\n",
    "z = defaultdict(int)\n",
    "\n",
    "z['alpha']"
   ]
  },
  {
   "cell_type": "code",
   "execution_count": 18,
   "metadata": {},
   "outputs": [],
   "source": [
    "#Lets Explore the Classes in python\n",
    "\n",
    "\n",
    "class BaseClass:\n",
    "    \n",
    "    def __init__(self, first):\n",
    "        self.firstname = first\n",
    "        \n",
    "    def Firstname(self):\n",
    "        return self.firstname\n",
    "    \n",
    "class Subclass(BaseClass):\n",
    "    \n",
    "    def __init__(self, first, last):\n",
    "        \n",
    "        BaseClass.__init__(self, first)\n",
    "        self.lastname = last\n",
    "        \n",
    "    def Lastname(self):\n",
    "        \n",
    "        return self.lastname\n",
    "    \n",
    "    def Fullname(self):\n",
    "        return self.firstname + ' ' + self.lastname"
   ]
  },
  {
   "cell_type": "code",
   "execution_count": 19,
   "metadata": {},
   "outputs": [
    {
     "name": "stdout",
     "output_type": "stream",
     "text": [
      "Aman\n"
     ]
    }
   ],
   "source": [
    "x = BaseClass(\"Aman\")\n",
    "y = Subclass(\"Aman\", \"Jaiswal\")\n",
    "\n",
    "print(x.Firstname())"
   ]
  },
  {
   "cell_type": "code",
   "execution_count": 20,
   "metadata": {},
   "outputs": [
    {
     "name": "stdout",
     "output_type": "stream",
     "text": [
      "Jaiswal\n"
     ]
    }
   ],
   "source": [
    "print(y.Lastname())"
   ]
  },
  {
   "cell_type": "code",
   "execution_count": 21,
   "metadata": {},
   "outputs": [
    {
     "name": "stdout",
     "output_type": "stream",
     "text": [
      "Aman\n"
     ]
    }
   ],
   "source": [
    "print(y.Firstname())"
   ]
  },
  {
   "cell_type": "code",
   "execution_count": 22,
   "metadata": {},
   "outputs": [
    {
     "name": "stdout",
     "output_type": "stream",
     "text": [
      "Aman Jaiswal\n"
     ]
    }
   ],
   "source": [
    "print(y.Fullname())"
   ]
  },
  {
   "cell_type": "code",
   "execution_count": 23,
   "metadata": {},
   "outputs": [
    {
     "name": "stdout",
     "output_type": "stream",
     "text": [
      "aman jaiswal\n"
     ]
    }
   ],
   "source": [
    "print('aman jaiswal')"
   ]
  },
  {
   "cell_type": "code",
   "execution_count": 24,
   "metadata": {},
   "outputs": [
    {
     "name": "stdout",
     "output_type": "stream",
     "text": [
      "aman jaiswal\n"
     ]
    }
   ],
   "source": [
    "a = \"\"\"aman jaiswal\"\"\"\n",
    "print(a)"
   ]
  },
  {
   "cell_type": "code",
   "execution_count": 25,
   "metadata": {},
   "outputs": [],
   "source": [
    "#REGULAR EXPRESSIONS\n",
    "\n",
    "import re\n",
    "\n",
    "s = \"We love our country INDIA.\"\n",
    "\n",
    "result = re.match('.', s)"
   ]
  },
  {
   "cell_type": "code",
   "execution_count": 26,
   "metadata": {},
   "outputs": [
    {
     "name": "stdout",
     "output_type": "stream",
     "text": [
      "<re.Match object; span=(0, 1), match='W'>\n"
     ]
    }
   ],
   "source": [
    "print(result)"
   ]
  },
  {
   "cell_type": "code",
   "execution_count": 30,
   "metadata": {},
   "outputs": [
    {
     "name": "stdout",
     "output_type": "stream",
     "text": [
      "<re.Match object; span=(0, 26), match='We love our country INDIA.'>\n"
     ]
    }
   ],
   "source": [
    "print(re.match('.*', s))"
   ]
  },
  {
   "cell_type": "code",
   "execution_count": 33,
   "metadata": {},
   "outputs": [
    {
     "name": "stdout",
     "output_type": "stream",
     "text": [
      "We love our country INDIA.\n"
     ]
    }
   ],
   "source": [
    "print(re.match('.*', s)[0])"
   ]
  },
  {
   "cell_type": "code",
   "execution_count": 35,
   "metadata": {},
   "outputs": [
    {
     "name": "stdout",
     "output_type": "stream",
     "text": [
      "['love']\n"
     ]
    }
   ],
   "source": [
    "print(re.findall('love', s))"
   ]
  },
  {
   "cell_type": "code",
   "execution_count": 36,
   "metadata": {},
   "outputs": [],
   "source": [
    "#Generators \n",
    "\n",
    "\n",
    "def decrement_step(num):\n",
    "    \n",
    "    while num > 0:\n",
    "        yield num\n",
    "        num -= 1\n",
    "        \n",
    "        "
   ]
  },
  {
   "cell_type": "code",
   "execution_count": 38,
   "metadata": {},
   "outputs": [
    {
     "data": {
      "text/plain": [
       "<generator object decrement_step at 0x7f0955d469d0>"
      ]
     },
     "execution_count": 38,
     "metadata": {},
     "output_type": "execute_result"
    }
   ],
   "source": [
    "decrement_step(5)"
   ]
  },
  {
   "cell_type": "code",
   "execution_count": 39,
   "metadata": {},
   "outputs": [
    {
     "name": "stdout",
     "output_type": "stream",
     "text": [
      "10\n",
      "9\n",
      "8\n",
      "7\n",
      "6\n",
      "5\n",
      "4\n",
      "3\n",
      "2\n",
      "1\n"
     ]
    }
   ],
   "source": [
    "for i in decrement_step(10):\n",
    "    print(i)"
   ]
  },
  {
   "cell_type": "code",
   "execution_count": 40,
   "metadata": {},
   "outputs": [
    {
     "name": "stdout",
     "output_type": "stream",
     "text": [
      "[5, 4, 3, 2, 1]\n"
     ]
    }
   ],
   "source": [
    "print(list(decrement_step(5)))"
   ]
  },
  {
   "cell_type": "code",
   "execution_count": null,
   "metadata": {},
   "outputs": [],
   "source": [
    "#Lets now read the whole corpus\n",
    "\n",
    "\n",
    "import nltk\n",
    "import codecs\n",
    "\n",
    "from nltk.corpus.reader.api import CorpusReader\n",
    "from nltk.corpus.reader.api import CategorizedCorpusReader\n",
    "\n",
    "\n",
    "CAT_PATTERN = r'([a-z_\\s]+)/.*'\n",
    "DOC_PATTERN = r'(?!\\.)[a-z_\\s]+/[a-f0-9]+\\.json'\n",
    "TAGS = ['h1', 'h2', 'h3', 'h4', 'h5', 'h6', 'h7', 'p', 'li']\n",
    "\n",
    "\n",
    "\n",
    "class HTMLCorpusReader(CategorizedCorpusReader, CorpusReader):\n",
    "    \n",
    "    \n",
    "    def __init__(self, root, fileids=DOC_PATTERN, encoding='utf-8',\n",
    "                tags=TAGS, **kwargs):\n",
    "        \n",
    "        if not any(key.starwith('cat_') for key in kwargs.keys()):\n",
    "            kwargs['cat_pattern'] = CAT_PATTERN\n",
    "            \n",
    "        CategorizedCorpusReader.__inti__(self,kwargs)\n",
    "        CorpusReader.__inti__(self, root, fileids, encoding)\n",
    "        \n",
    "        \n",
    "        self.tags = tags\n",
    "        \n",
    "    def resolve(self, fileids, categories):\n",
    "        \n",
    "        if fileids is not None and categories is not None:\n",
    "            raise ValueError(\"Specify the fileids and the categories\")\n",
    "            \n",
    "        if categories is not None:\n",
    "            return selfids.fileids(categories)\n",
    "        \n",
    "        return fileids\n",
    "    \n",
    "    def docs(self, fileids=None, categories=None):\n",
    "        \n",
    "        fileids = self.resolve(fileids, categories)\n",
    "        \n",
    "        for path, encoding in self.abspath(fileids, including_encode=True):\n",
    "            with(codecs.open(path, 'r', encoding=encoding) as f):\n",
    "                yeild f.read()"
   ]
  }
 ],
 "metadata": {
  "kernelspec": {
   "display_name": "Python 3",
   "language": "python",
   "name": "python3"
  },
  "language_info": {
   "codemirror_mode": {
    "name": "ipython",
    "version": 3
   },
   "file_extension": ".py",
   "mimetype": "text/x-python",
   "name": "python",
   "nbconvert_exporter": "python",
   "pygments_lexer": "ipython3",
   "version": "3.7.4"
  }
 },
 "nbformat": 4,
 "nbformat_minor": 2
}
