{
 "cells": [
  {
   "cell_type": "code",
   "execution_count": 42,
   "metadata": {},
   "outputs": [
    {
     "name": "stderr",
     "output_type": "stream",
     "text": [
      "/home/aman/anaconda3/lib/python3.7/importlib/_bootstrap.py:219: RuntimeWarning: numpy.ufunc size changed, may indicate binary incompatibility. Expected 216, got 192\n",
      "  return f(*args, **kwds)\n",
      "/home/aman/anaconda3/lib/python3.7/importlib/_bootstrap.py:219: RuntimeWarning: numpy.ufunc size changed, may indicate binary incompatibility. Expected 192 from C header, got 216 from PyObject\n",
      "  return f(*args, **kwds)\n"
     ]
    }
   ],
   "source": [
    "%matplotlib inline\n",
    "\n",
    "\n",
    "#importing all the necessry library\n",
    "\n",
    "\n",
    "import matplotlib.pyplot as plt\n",
    "import numpy as np\n",
    "import os\n",
    "import pandas as pd\n",
    "import seaborn as sns\n",
    "from glob import glob\n"
   ]
  },
  {
   "cell_type": "code",
   "execution_count": 44,
   "metadata": {},
   "outputs": [],
   "source": [
    "sns.set(context='talk')   #Initailizing seaborn"
   ]
  },
  {
   "cell_type": "code",
   "execution_count": 45,
   "metadata": {},
   "outputs": [
    {
     "name": "stdout",
     "output_type": "stream",
     "text": [
      "01.TM.ipynb\t\t       Dinesh_kumar_PDF2.txt\t  Dinesh_ti.txt\r\n",
      "data\t\t\t       dinesh_kumar_seg_pdfminer  pdf_miner_txt.txt\r\n",
      "Dinesh_Ji_experiment_wale.txt  Dinesh_te_seg\t\t  pypdf2_seg_dinesh\r\n",
      "Dinesh_Ji.txt\t\t       Dinesh_te.txt\r\n"
     ]
    }
   ],
   "source": [
    "!ls"
   ]
  },
  {
   "cell_type": "code",
   "execution_count": 54,
   "metadata": {},
   "outputs": [],
   "source": [
    "text_dir = os.path.join('.', 'data', 'texts')\n",
    "file_paths = glob(os.path.join(text_dir, '*.txt'))\n",
    "file_names = [os.path.split(i)[1].rstrip('.txt') for i in file_paths]"
   ]
  },
  {
   "cell_type": "code",
   "execution_count": 55,
   "metadata": {},
   "outputs": [
    {
     "name": "stdout",
     "output_type": "stream",
     "text": [
      "['B-Wells-Time_Machine-1895-M', 'B-Austen-Pride_Prejudice-1813-F', 'A-Jewett-Pointed_Firs-1896-F', 'A-Crane-Maggie-1893-M', 'A-Stowe-Uncle_Tom-1852-F', 'B-Thackeray-Vanity_Fair-1848-M', 'B-Gissing-Grub_Street-1893-M', 'B-Dickens-Bleak_House-1853-M', 'A-Hawthorne-Scarlet_Letter-1850-M', 'B-Conrad-Heart_Darkness-1902-M', 'B-Disraeli-Sybil-1845-M', 'B-Shelley-Frankenstein-1818-F', 'A-Gilman-Herland-1915-F', 'B-Eliot-Middlemarch-1869-F', 'A-James-Golden_Bowl-1904-M', 'A-Chopin-Awakening-1899-F', 'A-Alcott-Little_Women-1868-F', 'A-Cather-Antonia-1918-F', 'B-Gaskell-North_South-1855-F', 'A-Norris-Pit-1903-M', 'B-Stevenson-Treasure_Island-1883-M', 'B-Forster-Room_View-1908-M', 'A-London-Call_Wild-1903-M', 'A-Melville-Moby_Dick-1851-M', 'B-Bronte_E-Wuthering_Heights-1847-F', 'A-Freeman-Pembroke-1894-F', 'B-Hardy-Tess-1891-M', 'A-Howells-Silas_Lapham-1885-M', 'A-Wharton-Age_Innocence-1920-F', 'B-Burney-Evelina-1778-F', 'B-Trollope-Live_Now-1875-M', 'B-Bronte_C-Jane_Eyre-1847-F', 'B-Woolf-Mrs_Dalloway-1925-F', 'A-Twain-Huck_Finn-1885-M', 'B-Mitford-Our_Village-1826-F', 'A-Harper-Iola_Leroy-1892-F', 'A-Chesnutt-Marrow-1901-M', 'B-Radcliffe-Mysteries_Udolpho-1794-F', 'A-Dreiser-Sister_Carrie-1900-M']\n"
     ]
    }
   ],
   "source": [
    "print(file_names)"
   ]
  },
  {
   "cell_type": "code",
   "execution_count": 56,
   "metadata": {},
   "outputs": [],
   "source": [
    "nation = [i.split('-')[0] for i in file_names]\n",
    "author = [i.split('-')[1] for i in file_names]\n",
    "Title = [i.split('-')[2] for i in file_names]\n",
    "pub_year = [i.split('-')[3] for i in file_names]\n",
    "gender = [i.split('-')[4] for i in file_names]"
   ]
  },
  {
   "cell_type": "code",
   "execution_count": 57,
   "metadata": {},
   "outputs": [
    {
     "name": "stdout",
     "output_type": "stream",
     "text": [
      "['B', 'B', 'A', 'A', 'A', 'B', 'B', 'B', 'A', 'B', 'B', 'B', 'A', 'B', 'A', 'A', 'A', 'A', 'B', 'A', 'B', 'B', 'A', 'A', 'B', 'A', 'B', 'A', 'A', 'B', 'B', 'B', 'B', 'A', 'B', 'A', 'A', 'B', 'A']\n"
     ]
    }
   ],
   "source": [
    "print(nation)"
   ]
  },
  {
   "cell_type": "code",
   "execution_count": 58,
   "metadata": {},
   "outputs": [],
   "source": [
    "metadata = pd.DataFrame.from_records(\n",
    "{\n",
    "    'nation':nation,\n",
    "    'author': author,\n",
    "    'title': Title,\n",
    "    'year': pub_year,\n",
    "    'gender': gender\n",
    "},\n",
    "columns=['nation', 'author', 'title', 'year', 'gender'])"
   ]
  },
  {
   "cell_type": "code",
   "execution_count": 59,
   "metadata": {},
   "outputs": [
    {
     "name": "stdout",
     "output_type": "stream",
     "text": [
      "   nation     author              title  year gender\n",
      "0       B      Wells       Time_Machine  1895      M\n",
      "1       B     Austen    Pride_Prejudice  1813      F\n",
      "2       A     Jewett       Pointed_Firs  1896      F\n",
      "3       A      Crane             Maggie  1893      M\n",
      "4       A      Stowe          Uncle_Tom  1852      F\n",
      "5       B  Thackeray        Vanity_Fair  1848      M\n",
      "6       B    Gissing        Grub_Street  1893      M\n",
      "7       B    Dickens        Bleak_House  1853      M\n",
      "8       A  Hawthorne     Scarlet_Letter  1850      M\n",
      "9       B     Conrad     Heart_Darkness  1902      M\n",
      "10      B   Disraeli              Sybil  1845      M\n",
      "11      B    Shelley       Frankenstein  1818      F\n",
      "12      A     Gilman            Herland  1915      F\n",
      "13      B      Eliot        Middlemarch  1869      F\n",
      "14      A      James        Golden_Bowl  1904      M\n",
      "15      A     Chopin          Awakening  1899      F\n",
      "16      A     Alcott       Little_Women  1868      F\n",
      "17      A     Cather            Antonia  1918      F\n",
      "18      B    Gaskell        North_South  1855      F\n",
      "19      A     Norris                Pit  1903      M\n",
      "20      B  Stevenson    Treasure_Island  1883      M\n",
      "21      B    Forster          Room_View  1908      M\n",
      "22      A     London          Call_Wild  1903      M\n",
      "23      A   Melville          Moby_Dick  1851      M\n",
      "24      B   Bronte_E  Wuthering_Heights  1847      F\n",
      "25      A    Freeman           Pembroke  1894      F\n",
      "26      B      Hardy               Tess  1891      M\n",
      "27      A    Howells       Silas_Lapham  1885      M\n",
      "28      A    Wharton      Age_Innocence  1920      F\n",
      "29      B     Burney            Evelina  1778      F\n",
      "30      B   Trollope           Live_Now  1875      M\n",
      "31      B   Bronte_C          Jane_Eyre  1847      F\n",
      "32      B      Woolf       Mrs_Dalloway  1925      F\n",
      "33      A      Twain          Huck_Finn  1885      M\n",
      "34      B    Mitford        Our_Village  1826      F\n",
      "35      A     Harper         Iola_Leroy  1892      F\n",
      "36      A   Chesnutt             Marrow  1901      M\n",
      "37      B  Radcliffe  Mysteries_Udolpho  1794      F\n",
      "38      A    Dreiser      Sister_Carrie  1900      M\n"
     ]
    }
   ],
   "source": [
    "print(metadata)"
   ]
  },
  {
   "cell_type": "code",
   "execution_count": 60,
   "metadata": {},
   "outputs": [],
   "source": [
    "metadata.year = metadata.year.astype(int)"
   ]
  },
  {
   "cell_type": "code",
   "execution_count": 61,
   "metadata": {},
   "outputs": [
    {
     "name": "stdout",
     "output_type": "stream",
     "text": [
      "0     1895\n",
      "1     1813\n",
      "2     1896\n",
      "3     1893\n",
      "4     1852\n",
      "5     1848\n",
      "6     1893\n",
      "7     1853\n",
      "8     1850\n",
      "9     1902\n",
      "10    1845\n",
      "11    1818\n",
      "12    1915\n",
      "13    1869\n",
      "14    1904\n",
      "15    1899\n",
      "16    1868\n",
      "17    1918\n",
      "18    1855\n",
      "19    1903\n",
      "20    1883\n",
      "21    1908\n",
      "22    1903\n",
      "23    1851\n",
      "24    1847\n",
      "25    1894\n",
      "26    1891\n",
      "27    1885\n",
      "28    1920\n",
      "29    1778\n",
      "30    1875\n",
      "31    1847\n",
      "32    1925\n",
      "33    1885\n",
      "34    1826\n",
      "35    1892\n",
      "36    1901\n",
      "37    1794\n",
      "38    1900\n",
      "Name: year, dtype: int64\n"
     ]
    }
   ],
   "source": [
    "print(metadata.year)"
   ]
  },
  {
   "cell_type": "code",
   "execution_count": 62,
   "metadata": {},
   "outputs": [
    {
     "data": {
      "text/html": [
       "<div>\n",
       "<style scoped>\n",
       "    .dataframe tbody tr th:only-of-type {\n",
       "        vertical-align: middle;\n",
       "    }\n",
       "\n",
       "    .dataframe tbody tr th {\n",
       "        vertical-align: top;\n",
       "    }\n",
       "\n",
       "    .dataframe thead th {\n",
       "        text-align: right;\n",
       "    }\n",
       "</style>\n",
       "<table border=\"1\" class=\"dataframe\">\n",
       "  <thead>\n",
       "    <tr style=\"text-align: right;\">\n",
       "      <th></th>\n",
       "      <th>nation</th>\n",
       "      <th>author</th>\n",
       "      <th>title</th>\n",
       "      <th>year</th>\n",
       "      <th>gender</th>\n",
       "    </tr>\n",
       "  </thead>\n",
       "  <tbody>\n",
       "    <tr>\n",
       "      <th>16</th>\n",
       "      <td>A</td>\n",
       "      <td>Alcott</td>\n",
       "      <td>Little_Women</td>\n",
       "      <td>1868</td>\n",
       "      <td>F</td>\n",
       "    </tr>\n",
       "    <tr>\n",
       "      <th>1</th>\n",
       "      <td>B</td>\n",
       "      <td>Austen</td>\n",
       "      <td>Pride_Prejudice</td>\n",
       "      <td>1813</td>\n",
       "      <td>F</td>\n",
       "    </tr>\n",
       "    <tr>\n",
       "      <th>31</th>\n",
       "      <td>B</td>\n",
       "      <td>Bronte_C</td>\n",
       "      <td>Jane_Eyre</td>\n",
       "      <td>1847</td>\n",
       "      <td>F</td>\n",
       "    </tr>\n",
       "    <tr>\n",
       "      <th>24</th>\n",
       "      <td>B</td>\n",
       "      <td>Bronte_E</td>\n",
       "      <td>Wuthering_Heights</td>\n",
       "      <td>1847</td>\n",
       "      <td>F</td>\n",
       "    </tr>\n",
       "    <tr>\n",
       "      <th>29</th>\n",
       "      <td>B</td>\n",
       "      <td>Burney</td>\n",
       "      <td>Evelina</td>\n",
       "      <td>1778</td>\n",
       "      <td>F</td>\n",
       "    </tr>\n",
       "    <tr>\n",
       "      <th>17</th>\n",
       "      <td>A</td>\n",
       "      <td>Cather</td>\n",
       "      <td>Antonia</td>\n",
       "      <td>1918</td>\n",
       "      <td>F</td>\n",
       "    </tr>\n",
       "    <tr>\n",
       "      <th>36</th>\n",
       "      <td>A</td>\n",
       "      <td>Chesnutt</td>\n",
       "      <td>Marrow</td>\n",
       "      <td>1901</td>\n",
       "      <td>M</td>\n",
       "    </tr>\n",
       "    <tr>\n",
       "      <th>15</th>\n",
       "      <td>A</td>\n",
       "      <td>Chopin</td>\n",
       "      <td>Awakening</td>\n",
       "      <td>1899</td>\n",
       "      <td>F</td>\n",
       "    </tr>\n",
       "    <tr>\n",
       "      <th>9</th>\n",
       "      <td>B</td>\n",
       "      <td>Conrad</td>\n",
       "      <td>Heart_Darkness</td>\n",
       "      <td>1902</td>\n",
       "      <td>M</td>\n",
       "    </tr>\n",
       "    <tr>\n",
       "      <th>3</th>\n",
       "      <td>A</td>\n",
       "      <td>Crane</td>\n",
       "      <td>Maggie</td>\n",
       "      <td>1893</td>\n",
       "      <td>M</td>\n",
       "    </tr>\n",
       "    <tr>\n",
       "      <th>7</th>\n",
       "      <td>B</td>\n",
       "      <td>Dickens</td>\n",
       "      <td>Bleak_House</td>\n",
       "      <td>1853</td>\n",
       "      <td>M</td>\n",
       "    </tr>\n",
       "    <tr>\n",
       "      <th>10</th>\n",
       "      <td>B</td>\n",
       "      <td>Disraeli</td>\n",
       "      <td>Sybil</td>\n",
       "      <td>1845</td>\n",
       "      <td>M</td>\n",
       "    </tr>\n",
       "    <tr>\n",
       "      <th>38</th>\n",
       "      <td>A</td>\n",
       "      <td>Dreiser</td>\n",
       "      <td>Sister_Carrie</td>\n",
       "      <td>1900</td>\n",
       "      <td>M</td>\n",
       "    </tr>\n",
       "    <tr>\n",
       "      <th>13</th>\n",
       "      <td>B</td>\n",
       "      <td>Eliot</td>\n",
       "      <td>Middlemarch</td>\n",
       "      <td>1869</td>\n",
       "      <td>F</td>\n",
       "    </tr>\n",
       "    <tr>\n",
       "      <th>21</th>\n",
       "      <td>B</td>\n",
       "      <td>Forster</td>\n",
       "      <td>Room_View</td>\n",
       "      <td>1908</td>\n",
       "      <td>M</td>\n",
       "    </tr>\n",
       "    <tr>\n",
       "      <th>25</th>\n",
       "      <td>A</td>\n",
       "      <td>Freeman</td>\n",
       "      <td>Pembroke</td>\n",
       "      <td>1894</td>\n",
       "      <td>F</td>\n",
       "    </tr>\n",
       "    <tr>\n",
       "      <th>18</th>\n",
       "      <td>B</td>\n",
       "      <td>Gaskell</td>\n",
       "      <td>North_South</td>\n",
       "      <td>1855</td>\n",
       "      <td>F</td>\n",
       "    </tr>\n",
       "    <tr>\n",
       "      <th>12</th>\n",
       "      <td>A</td>\n",
       "      <td>Gilman</td>\n",
       "      <td>Herland</td>\n",
       "      <td>1915</td>\n",
       "      <td>F</td>\n",
       "    </tr>\n",
       "    <tr>\n",
       "      <th>6</th>\n",
       "      <td>B</td>\n",
       "      <td>Gissing</td>\n",
       "      <td>Grub_Street</td>\n",
       "      <td>1893</td>\n",
       "      <td>M</td>\n",
       "    </tr>\n",
       "    <tr>\n",
       "      <th>26</th>\n",
       "      <td>B</td>\n",
       "      <td>Hardy</td>\n",
       "      <td>Tess</td>\n",
       "      <td>1891</td>\n",
       "      <td>M</td>\n",
       "    </tr>\n",
       "    <tr>\n",
       "      <th>35</th>\n",
       "      <td>A</td>\n",
       "      <td>Harper</td>\n",
       "      <td>Iola_Leroy</td>\n",
       "      <td>1892</td>\n",
       "      <td>F</td>\n",
       "    </tr>\n",
       "    <tr>\n",
       "      <th>8</th>\n",
       "      <td>A</td>\n",
       "      <td>Hawthorne</td>\n",
       "      <td>Scarlet_Letter</td>\n",
       "      <td>1850</td>\n",
       "      <td>M</td>\n",
       "    </tr>\n",
       "    <tr>\n",
       "      <th>27</th>\n",
       "      <td>A</td>\n",
       "      <td>Howells</td>\n",
       "      <td>Silas_Lapham</td>\n",
       "      <td>1885</td>\n",
       "      <td>M</td>\n",
       "    </tr>\n",
       "    <tr>\n",
       "      <th>14</th>\n",
       "      <td>A</td>\n",
       "      <td>James</td>\n",
       "      <td>Golden_Bowl</td>\n",
       "      <td>1904</td>\n",
       "      <td>M</td>\n",
       "    </tr>\n",
       "    <tr>\n",
       "      <th>2</th>\n",
       "      <td>A</td>\n",
       "      <td>Jewett</td>\n",
       "      <td>Pointed_Firs</td>\n",
       "      <td>1896</td>\n",
       "      <td>F</td>\n",
       "    </tr>\n",
       "    <tr>\n",
       "      <th>22</th>\n",
       "      <td>A</td>\n",
       "      <td>London</td>\n",
       "      <td>Call_Wild</td>\n",
       "      <td>1903</td>\n",
       "      <td>M</td>\n",
       "    </tr>\n",
       "    <tr>\n",
       "      <th>23</th>\n",
       "      <td>A</td>\n",
       "      <td>Melville</td>\n",
       "      <td>Moby_Dick</td>\n",
       "      <td>1851</td>\n",
       "      <td>M</td>\n",
       "    </tr>\n",
       "    <tr>\n",
       "      <th>34</th>\n",
       "      <td>B</td>\n",
       "      <td>Mitford</td>\n",
       "      <td>Our_Village</td>\n",
       "      <td>1826</td>\n",
       "      <td>F</td>\n",
       "    </tr>\n",
       "    <tr>\n",
       "      <th>19</th>\n",
       "      <td>A</td>\n",
       "      <td>Norris</td>\n",
       "      <td>Pit</td>\n",
       "      <td>1903</td>\n",
       "      <td>M</td>\n",
       "    </tr>\n",
       "    <tr>\n",
       "      <th>37</th>\n",
       "      <td>B</td>\n",
       "      <td>Radcliffe</td>\n",
       "      <td>Mysteries_Udolpho</td>\n",
       "      <td>1794</td>\n",
       "      <td>F</td>\n",
       "    </tr>\n",
       "    <tr>\n",
       "      <th>11</th>\n",
       "      <td>B</td>\n",
       "      <td>Shelley</td>\n",
       "      <td>Frankenstein</td>\n",
       "      <td>1818</td>\n",
       "      <td>F</td>\n",
       "    </tr>\n",
       "    <tr>\n",
       "      <th>20</th>\n",
       "      <td>B</td>\n",
       "      <td>Stevenson</td>\n",
       "      <td>Treasure_Island</td>\n",
       "      <td>1883</td>\n",
       "      <td>M</td>\n",
       "    </tr>\n",
       "    <tr>\n",
       "      <th>4</th>\n",
       "      <td>A</td>\n",
       "      <td>Stowe</td>\n",
       "      <td>Uncle_Tom</td>\n",
       "      <td>1852</td>\n",
       "      <td>F</td>\n",
       "    </tr>\n",
       "    <tr>\n",
       "      <th>5</th>\n",
       "      <td>B</td>\n",
       "      <td>Thackeray</td>\n",
       "      <td>Vanity_Fair</td>\n",
       "      <td>1848</td>\n",
       "      <td>M</td>\n",
       "    </tr>\n",
       "    <tr>\n",
       "      <th>30</th>\n",
       "      <td>B</td>\n",
       "      <td>Trollope</td>\n",
       "      <td>Live_Now</td>\n",
       "      <td>1875</td>\n",
       "      <td>M</td>\n",
       "    </tr>\n",
       "    <tr>\n",
       "      <th>33</th>\n",
       "      <td>A</td>\n",
       "      <td>Twain</td>\n",
       "      <td>Huck_Finn</td>\n",
       "      <td>1885</td>\n",
       "      <td>M</td>\n",
       "    </tr>\n",
       "    <tr>\n",
       "      <th>0</th>\n",
       "      <td>B</td>\n",
       "      <td>Wells</td>\n",
       "      <td>Time_Machine</td>\n",
       "      <td>1895</td>\n",
       "      <td>M</td>\n",
       "    </tr>\n",
       "    <tr>\n",
       "      <th>28</th>\n",
       "      <td>A</td>\n",
       "      <td>Wharton</td>\n",
       "      <td>Age_Innocence</td>\n",
       "      <td>1920</td>\n",
       "      <td>F</td>\n",
       "    </tr>\n",
       "    <tr>\n",
       "      <th>32</th>\n",
       "      <td>B</td>\n",
       "      <td>Woolf</td>\n",
       "      <td>Mrs_Dalloway</td>\n",
       "      <td>1925</td>\n",
       "      <td>F</td>\n",
       "    </tr>\n",
       "  </tbody>\n",
       "</table>\n",
       "</div>"
      ],
      "text/plain": [
       "   nation     author              title  year gender\n",
       "16      A     Alcott       Little_Women  1868      F\n",
       "1       B     Austen    Pride_Prejudice  1813      F\n",
       "31      B   Bronte_C          Jane_Eyre  1847      F\n",
       "24      B   Bronte_E  Wuthering_Heights  1847      F\n",
       "29      B     Burney            Evelina  1778      F\n",
       "17      A     Cather            Antonia  1918      F\n",
       "36      A   Chesnutt             Marrow  1901      M\n",
       "15      A     Chopin          Awakening  1899      F\n",
       "9       B     Conrad     Heart_Darkness  1902      M\n",
       "3       A      Crane             Maggie  1893      M\n",
       "7       B    Dickens        Bleak_House  1853      M\n",
       "10      B   Disraeli              Sybil  1845      M\n",
       "38      A    Dreiser      Sister_Carrie  1900      M\n",
       "13      B      Eliot        Middlemarch  1869      F\n",
       "21      B    Forster          Room_View  1908      M\n",
       "25      A    Freeman           Pembroke  1894      F\n",
       "18      B    Gaskell        North_South  1855      F\n",
       "12      A     Gilman            Herland  1915      F\n",
       "6       B    Gissing        Grub_Street  1893      M\n",
       "26      B      Hardy               Tess  1891      M\n",
       "35      A     Harper         Iola_Leroy  1892      F\n",
       "8       A  Hawthorne     Scarlet_Letter  1850      M\n",
       "27      A    Howells       Silas_Lapham  1885      M\n",
       "14      A      James        Golden_Bowl  1904      M\n",
       "2       A     Jewett       Pointed_Firs  1896      F\n",
       "22      A     London          Call_Wild  1903      M\n",
       "23      A   Melville          Moby_Dick  1851      M\n",
       "34      B    Mitford        Our_Village  1826      F\n",
       "19      A     Norris                Pit  1903      M\n",
       "37      B  Radcliffe  Mysteries_Udolpho  1794      F\n",
       "11      B    Shelley       Frankenstein  1818      F\n",
       "20      B  Stevenson    Treasure_Island  1883      M\n",
       "4       A      Stowe          Uncle_Tom  1852      F\n",
       "5       B  Thackeray        Vanity_Fair  1848      M\n",
       "30      B   Trollope           Live_Now  1875      M\n",
       "33      A      Twain          Huck_Finn  1885      M\n",
       "0       B      Wells       Time_Machine  1895      M\n",
       "28      A    Wharton      Age_Innocence  1920      F\n",
       "32      B      Woolf       Mrs_Dalloway  1925      F"
      ]
     },
     "execution_count": 62,
     "metadata": {},
     "output_type": "execute_result"
    }
   ],
   "source": [
    "metadata.sort_values('author')"
   ]
  },
  {
   "cell_type": "code",
   "execution_count": 63,
   "metadata": {},
   "outputs": [
    {
     "data": {
      "text/plain": [
       "nation  gender\n",
       "A       M         10\n",
       "        F          9\n",
       "B       F         10\n",
       "        M         10\n",
       "Name: gender, dtype: int64"
      ]
     },
     "execution_count": 63,
     "metadata": {},
     "output_type": "execute_result"
    }
   ],
   "source": [
    "#Lets check the composition by nation and gender\n",
    "\n",
    "metadata.groupby('nation').gender.value_counts()"
   ]
  },
  {
   "cell_type": "code",
   "execution_count": 64,
   "metadata": {},
   "outputs": [
    {
     "data": {
      "text/plain": [
       "gender  nation\n",
       "F       B         10\n",
       "        A          9\n",
       "M       A         10\n",
       "        B         10\n",
       "Name: nation, dtype: int64"
      ]
     },
     "execution_count": 64,
     "metadata": {},
     "output_type": "execute_result"
    }
   ],
   "source": [
    "metadata.groupby('gender').nation.value_counts()"
   ]
  },
  {
   "cell_type": "code",
   "execution_count": 67,
   "metadata": {},
   "outputs": [
    {
     "data": {
      "text/plain": [
       "<matplotlib.axes._subplots.AxesSubplot at 0x7f95ec50aa10>"
      ]
     },
     "execution_count": 67,
     "metadata": {},
     "output_type": "execute_result"
    },
    {
     "data": {
      "image/png": "[encoded data removed]",
      "text/plain": [
       "<Figure size 1440x1080 with 1 Axes>"
      ]
     },
     "metadata": {},
     "output_type": "display_data"
    }
   ],
   "source": [
    "#Lets plot the overall distribution now\n",
    "\n",
    "import warnings\n",
    "warnings.simplefilter('ignore')\n",
    "\n",
    "sns.set()\n",
    "\n",
    "sns.set_context('talk')\n",
    "\n",
    "plt.rcParams['figure.figsize'] = [20,15]\n",
    "\n",
    "sns.distplot(metadata['year'], rug=True, kde=True, bins=10)"
   ]
  },
  {
   "cell_type": "code",
   "execution_count": 70,
   "metadata": {},
   "outputs": [
    {
     "data": {
      "image/png": "[encoded data removed]",
      "text/plain": [
       "<Figure size 720x720 with 4 Axes>"
      ]
     },
     "metadata": {},
     "output_type": "display_data"
    }
   ],
   "source": [
    "#Lets plot distribution by gender and gender\n",
    "\n",
    "g = sns.FacetGrid(\n",
    "metadata,\n",
    "row='nation',\n",
    "col='gender',\n",
    "hue='gender',\n",
    "margin_titles=True,\n",
    "height=5)"
   ]
  },
  {
   "cell_type": "code",
   "execution_count": 78,
   "metadata": {},
   "outputs": [
    {
     "data": {
      "text/plain": [
       "<seaborn.axisgrid.FacetGrid at 0x7f95e9e1aa50>"
      ]
     },
     "execution_count": 78,
     "metadata": {},
     "output_type": "execute_result"
    },
    {
     "data": {
      "image/png": "[encoded data removed]",
      "text/plain": [
       "<Figure size 1440x1440 with 4 Axes>"
      ]
     },
     "metadata": {},
     "output_type": "display_data"
    }
   ],
   "source": [
    "g = sns.FacetGrid(\n",
    "metadata,\n",
    "row='nation',\n",
    "col='gender',\n",
    "hue='gender',\n",
    "margin_titles=True,\n",
    "height=10)\n",
    "\n",
    "\n",
    "bins = np.linspace(metadata.year.min(), metadata.year.max(), 15)\n",
    "g.map(plt.hist, 'year', bins=bins)"
   ]
  },
  {
   "cell_type": "code",
   "execution_count": null,
   "metadata": {},
   "outputs": [],
   "source": []
  }
 ],
 "metadata": {
  "kernelspec": {
   "display_name": "Python 3",
   "language": "python",
   "name": "python3"
  },
  "language_info": {
   "codemirror_mode": {
    "name": "ipython",
    "version": 3
   },
   "file_extension": ".py",
   "mimetype": "text/x-python",
   "name": "python",
   "nbconvert_exporter": "python",
   "pygments_lexer": "ipython3",
   "version": "3.7.4"
  }
 },
 "nbformat": 4,
 "nbformat_minor": 2
}
