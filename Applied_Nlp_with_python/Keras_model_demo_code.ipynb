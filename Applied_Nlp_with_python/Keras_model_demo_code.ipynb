{
 "cells": [
  {
   "cell_type": "code",
   "execution_count": 1,
   "metadata": {},
   "outputs": [],
   "source": [
    "from keras.models import Sequential\n",
    "from keras.layers.convolutional import Conv3D\n",
    "from keras.layers.convolutional_recurrent import ConvLSTM2D\n",
    "from keras.layers.normalization import BatchNormalization\n"
   ]
  },
  {
   "cell_type": "code",
   "execution_count": 2,
   "metadata": {},
   "outputs": [],
   "source": [
    "def create_model():\n",
    "    model = Sequential()\n",
    "    model.add(ConvLSTM2D(filters=40, kernel_size=(3,3),\n",
    "                        input_shape=(None, 40, 40, 1),\n",
    "                        padding='same', return_sequences=True))\n",
    "    model.add(BatchNormalization())\n",
    "    model.add(ConvLSTM2D(filters=40, kernel_size=(3,3),\n",
    "                        padding='same', return_sequences=True))\n",
    "    \n",
    "    model.add(BatchNormalization())\n",
    "    \n",
    "    model.add(ConvLSTM2D(filters=40, kernel_size=(3,3),\n",
    "                        padding='same', return_sequences=True))\n",
    "    model.add(BatchNormalization())\n",
    "    model.add(ConvLSTM2D(filters=40, kernel_size=(3,3),\n",
    "                        padding='same', return_sequences=True))\n",
    "    model.add(BatchNormalization())\n",
    "    \n",
    "    model.add(Conv3D(filters1, kernel_size=(3,3,3),\n",
    "                    activation='sigmoid',\n",
    "                    padding='same',\n",
    "                    data_format='channel_last'))\n",
    "    model.compile(loss='binary_crossentropy', optimizer='adadelta')\n",
    "    return model"
   ]
  },
  {
   "cell_type": "code",
   "execution_count": null,
   "metadata": {},
   "outputs": [],
   "source": []
  }
 ],
 "metadata": {
  "kernelspec": {
   "display_name": "Python 3",
   "language": "python",
   "name": "python3"
  },
  "language_info": {
   "codemirror_mode": {
    "name": "ipython",
    "version": 3
   },
   "file_extension": ".py",
   "mimetype": "text/x-python",
   "name": "python",
   "nbconvert_exporter": "python",
   "pygments_lexer": "ipython3",
   "version": "3.7.4"
  }
 },
 "nbformat": 4,
 "nbformat_minor": 2
}
