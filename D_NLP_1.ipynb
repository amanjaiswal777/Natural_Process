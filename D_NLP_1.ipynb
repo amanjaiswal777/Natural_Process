{
 "cells": [
  {
   "cell_type": "code",
   "execution_count": 1,
   "metadata": {},
   "outputs": [],
   "source": [
    "import spacy\n",
    "\n",
    "from sklearn.datasets import fetch_20newsgroups\n",
    "from sklearn.pipeline import Pipeline\n",
    "\n",
    "import numpy as np"
   ]
  },
  {
   "cell_type": "code",
   "execution_count": 2,
   "metadata": {},
   "outputs": [
    {
     "name": "stderr",
     "output_type": "stream",
     "text": [
      "Downloading 20news dataset. This may take a few minutes.\n",
      "Downloading dataset from https://ndownloader.figshare.com/files/5975967 (14 MB)\n"
     ]
    }
   ],
   "source": [
    "train = fetch_20newsgroups(subset='train', shuffle=True, download_if_missing=True)\n",
    "test = fetch_20newsgroups(subset='test', shuffle=True, download_if_missing=True)"
   ]
  },
  {
   "cell_type": "code",
   "execution_count": 4,
   "metadata": {},
   "outputs": [
    {
     "data": {
      "text/plain": [
       "\"From: lerxst@wam.umd.edu (where's my thing)\\nSubject: WHAT car is this!?\\nNntp-Posting-Host: rac3.wam.umd.edu\\nOrganization: University of Maryland, College Park\\nLines: 15\\n\\n I was wondering if anyone out there could enlighten me on this car I saw\\nthe other day. It was a 2-door sports car, looked to be from the late 60s/\\nearly 70s. It was called a Bricklin. The doors were really small. In addition,\\nthe front bumper was separate from the rest of the body. This is \\nall I know. If anyone can tellme a model name, engine specs, years\\nof production, where this car is made, history, or whatever info you\\nhave on this funky looking car, please e-mail.\\n\\nThanks,\\n- IL\\n   ---- brought to you by your neighborhood Lerxst ----\\n\\n\\n\\n\\n\""
      ]
     },
     "execution_count": 4,
     "metadata": {},
     "output_type": "execute_result"
    }
   ],
   "source": [
    "train.data[0]"
   ]
  },
  {
   "cell_type": "code",
   "execution_count": 5,
   "metadata": {},
   "outputs": [
    {
     "data": {
      "text/plain": [
       "['alt.atheism',\n",
       " 'comp.graphics',\n",
       " 'comp.os.ms-windows.misc',\n",
       " 'comp.sys.ibm.pc.hardware',\n",
       " 'comp.sys.mac.hardware',\n",
       " 'comp.windows.x',\n",
       " 'misc.forsale',\n",
       " 'rec.autos',\n",
       " 'rec.motorcycles',\n",
       " 'rec.sport.baseball',\n",
       " 'rec.sport.hockey',\n",
       " 'sci.crypt',\n",
       " 'sci.electronics',\n",
       " 'sci.med',\n",
       " 'sci.space',\n",
       " 'soc.religion.christian',\n",
       " 'talk.politics.guns',\n",
       " 'talk.politics.mideast',\n",
       " 'talk.politics.misc',\n",
       " 'talk.religion.misc']"
      ]
     },
     "execution_count": 5,
     "metadata": {},
     "output_type": "execute_result"
    }
   ],
   "source": [
    "train.target_names"
   ]
  },
  {
   "cell_type": "code",
   "execution_count": 7,
   "metadata": {},
   "outputs": [
    {
     "name": "stdout",
     "output_type": "stream",
     "text": [
      "Shape of Term Frequency Matrix: (11314, 130107)\n"
     ]
    }
   ],
   "source": [
    "#Extracting Features from the text files\n",
    "from sklearn.feature_extraction.text import CountVectorizer\n",
    "\n",
    "count_vect = CountVectorizer()\n",
    "train_counts = count_vect.fit_transform(train.data)\n",
    "print(f'Shape of Term Frequency Matrix: {train_counts.shape}')"
   ]
  },
  {
   "cell_type": "code",
   "execution_count": 9,
   "metadata": {},
   "outputs": [
    {
     "name": "stdout",
     "output_type": "stream",
     "text": [
      "Shape of TFIDF Matrix: (11314, 130107)\n"
     ]
    }
   ],
   "source": [
    "from sklearn.feature_extraction.text import TfidfTransformer\n",
    "tfidf_transformer = TfidfTransformer()\n",
    "train_tfidf = tfidf_transformer.fit_transform(train_counts)\n",
    "\n",
    "print(f'Shape of TFIDF Matrix: {train_tfidf.shape}')"
   ]
  },
  {
   "cell_type": "code",
   "execution_count": 10,
   "metadata": {},
   "outputs": [],
   "source": [
    "from sklearn.naive_bayes import MultinomialNB\n",
    "clf = MultinomialNB().fit(train_tfidf, train.target)"
   ]
  },
  {
   "cell_type": "code",
   "execution_count": 11,
   "metadata": {},
   "outputs": [],
   "source": [
    "#Lets build a pipeline for the above code\n",
    "text_nb_clf = Pipeline([('vect', CountVectorizer()), ('tfidf', TfidfTransformer()), ('clf', MultinomialNB())])\n",
    "text_nb_clf = text_nb_clf.fit(train.data, train.target)"
   ]
  },
  {
   "cell_type": "code",
   "execution_count": 14,
   "metadata": {},
   "outputs": [],
   "source": [
    "predicted = text_nb_clf.predict(test.data)\n",
    "naivebayes_accuracy = np.mean(predicted==test.target) * 100"
   ]
  },
  {
   "cell_type": "code",
   "execution_count": 15,
   "metadata": {},
   "outputs": [
    {
     "name": "stdout",
     "output_type": "stream",
     "text": [
      "Test Accuracy is 77.38980350504514 %\n"
     ]
    }
   ],
   "source": [
    "print(f'Test Accuracy is {naivebayes_accuracy} %')"
   ]
  },
  {
   "cell_type": "code",
   "execution_count": 19,
   "metadata": {},
   "outputs": [
    {
     "name": "stdout",
     "output_type": "stream",
     "text": [
      "CPU times: user 2 µs, sys: 0 ns, total: 2 µs\n",
      "Wall time: 4.29 µs\n"
     ]
    },
    {
     "name": "stderr",
     "output_type": "stream",
     "text": [
      "/home/aman/anaconda3/lib/python3.7/site-packages/sklearn/linear_model/logistic.py:432: FutureWarning: Default solver will be changed to 'lbfgs' in 0.22. Specify a solver to silence this warning.\n",
      "  FutureWarning)\n",
      "/home/aman/anaconda3/lib/python3.7/site-packages/sklearn/linear_model/logistic.py:469: FutureWarning: Default multi_class will be changed to 'auto' in 0.22. Specify the multi_class option to silence this warning.\n",
      "  \"this warning.\", FutureWarning)\n"
     ]
    }
   ],
   "source": [
    "from sklearn.linear_model import LogisticRegression as LR\n",
    "import time\n",
    "%time\n",
    "Text_lr_clf = Pipeline([('vect', CountVectorizer()), ('tfidf', TfidfTransformer()), ('clr', LR())])\n",
    "Text_lr_clf = Text_lr_clf.fit(train.data, train.target)"
   ]
  },
  {
   "cell_type": "code",
   "execution_count": 20,
   "metadata": {},
   "outputs": [
    {
     "name": "stdout",
     "output_type": "stream",
     "text": [
      "Test Accuracy is 82.79341476367499\n"
     ]
    }
   ],
   "source": [
    "lr_predicted = Text_lr_clf.predict(test.data)\n",
    "lr_clf_accuracy = np.mean(lr_predicted == test.target) * 100\n",
    "print(f'Test Accuracy is {lr_clf_accuracy}')"
   ]
  },
  {
   "cell_type": "code",
   "execution_count": 22,
   "metadata": {},
   "outputs": [],
   "source": [
    "from sklearn.metrics import confusion_matrix\n",
    "#cf = confusion_matrix(y_true==test.target, y_pred==lr_predicted)"
   ]
  },
  {
   "cell_type": "code",
   "execution_count": 24,
   "metadata": {},
   "outputs": [],
   "source": [
    "cf = confusion_matrix(y_true=test.target, y_pred=lr_predicted)"
   ]
  },
  {
   "cell_type": "code",
   "execution_count": 29,
   "metadata": {},
   "outputs": [
    {
     "name": "stdout",
     "output_type": "stream",
     "text": [
      "[\n",
      "  [\n",
      "    236,\n",
      "    2,\n",
      "    0,\n",
      "    0,\n",
      "    1,\n",
      "    1,\n",
      "    3,\n",
      "    0,\n",
      "    3,\n",
      "    3,\n",
      "    1,\n",
      "    1,\n",
      "    2,\n",
      "    9,\n",
      "    2,\n",
      "    35,\n",
      "    3,\n",
      "    4,\n",
      "    1,\n",
      "    12\n",
      "  ],\n",
      "  [\n",
      "    2,\n",
      "    304,\n",
      "    13,\n",
      "    8,\n",
      "    8,\n",
      "    19,\n",
      "    7,\n",
      "    1,\n",
      "    0,\n",
      "    1,\n",
      "    0,\n",
      "    4,\n",
      "    10,\n",
      "    1,\n",
      "    5,\n",
      "    2,\n",
      "    1,\n",
      "    1,\n",
      "    1,\n",
      "    1\n",
      "  ],\n",
      "  [\n",
      "    1,\n",
      "    21,\n",
      "    294,\n",
      "    31,\n",
      "    12,\n",
      "    10,\n",
      "    2,\n",
      "    2,\n",
      "    1,\n",
      "    5,\n",
      "    0,\n",
      "    1,\n",
      "    1,\n",
      "    2,\n",
      "    4,\n",
      "    2,\n",
      "    0,\n",
      "    0,\n",
      "    4,\n",
      "    1\n",
      "  ],\n",
      "  [\n",
      "    0,\n",
      "    12,\n",
      "    24,\n",
      "    283,\n",
      "    22,\n",
      "    2,\n",
      "    13,\n",
      "    3,\n",
      "    1,\n",
      "    1,\n",
      "    1,\n",
      "    1,\n",
      "    24,\n",
      "    0,\n",
      "    4,\n",
      "    0,\n",
      "    0,\n",
      "    0,\n",
      "    0,\n",
      "    1\n",
      "  ],\n",
      "  [\n",
      "    0,\n",
      "    5,\n",
      "    6,\n",
      "    21,\n",
      "    319,\n",
      "    1,\n",
      "    11,\n",
      "    1,\n",
      "    1,\n",
      "    5,\n",
      "    1,\n",
      "    0,\n",
      "    10,\n",
      "    0,\n",
      "    1,\n",
      "    0,\n",
      "    0,\n",
      "    0,\n",
      "    3,\n",
      "    0\n",
      "  ],\n",
      "  [\n",
      "    0,\n",
      "    41,\n",
      "    38,\n",
      "    5,\n",
      "    4,\n",
      "    292,\n",
      "    3,\n",
      "    0,\n",
      "    1,\n",
      "    1,\n",
      "    0,\n",
      "    1,\n",
      "    3,\n",
      "    2,\n",
      "    4,\n",
      "    0,\n",
      "    0,\n",
      "    0,\n",
      "    0,\n",
      "    0\n",
      "  ],\n",
      "  [\n",
      "    0,\n",
      "    3,\n",
      "    2,\n",
      "    12,\n",
      "    7,\n",
      "    0,\n",
      "    351,\n",
      "    3,\n",
      "    2,\n",
      "    1,\n",
      "    1,\n",
      "    0,\n",
      "    7,\n",
      "    1,\n",
      "    0,\n",
      "    0,\n",
      "    0,\n",
      "    0,\n",
      "    0,\n",
      "    0\n",
      "  ],\n",
      "  [\n",
      "    0,\n",
      "    1,\n",
      "    1,\n",
      "    4,\n",
      "    0,\n",
      "    2,\n",
      "    12,\n",
      "    352,\n",
      "    4,\n",
      "    2,\n",
      "    0,\n",
      "    0,\n",
      "    13,\n",
      "    1,\n",
      "    1,\n",
      "    0,\n",
      "    1,\n",
      "    0,\n",
      "    2,\n",
      "    0\n",
      "  ],\n",
      "  [\n",
      "    0,\n",
      "    0,\n",
      "    0,\n",
      "    0,\n",
      "    0,\n",
      "    0,\n",
      "    6,\n",
      "    10,\n",
      "    379,\n",
      "    2,\n",
      "    0,\n",
      "    0,\n",
      "    1,\n",
      "    0,\n",
      "    0,\n",
      "    0,\n",
      "    0,\n",
      "    0,\n",
      "    0,\n",
      "    0\n",
      "  ],\n",
      "  [\n",
      "    1,\n",
      "    0,\n",
      "    0,\n",
      "    0,\n",
      "    2,\n",
      "    0,\n",
      "    6,\n",
      "    1,\n",
      "    0,\n",
      "    368,\n",
      "    15,\n",
      "    0,\n",
      "    2,\n",
      "    0,\n",
      "    0,\n",
      "    0,\n",
      "    1,\n",
      "    0,\n",
      "    0,\n",
      "    1\n",
      "  ],\n",
      "  [\n",
      "    0,\n",
      "    0,\n",
      "    0,\n",
      "    1,\n",
      "    3,\n",
      "    1,\n",
      "    2,\n",
      "    0,\n",
      "    0,\n",
      "    9,\n",
      "    382,\n",
      "    0,\n",
      "    0,\n",
      "    0,\n",
      "    0,\n",
      "    0,\n",
      "    0,\n",
      "    0,\n",
      "    1,\n",
      "    0\n",
      "  ],\n",
      "  [\n",
      "    1,\n",
      "    7,\n",
      "    3,\n",
      "    0,\n",
      "    3,\n",
      "    4,\n",
      "    5,\n",
      "    2,\n",
      "    1,\n",
      "    5,\n",
      "    0,\n",
      "    352,\n",
      "    5,\n",
      "    0,\n",
      "    1,\n",
      "    0,\n",
      "    4,\n",
      "    0,\n",
      "    3,\n",
      "    0\n",
      "  ],\n",
      "  [\n",
      "    1,\n",
      "    9,\n",
      "    5,\n",
      "    20,\n",
      "    9,\n",
      "    4,\n",
      "    8,\n",
      "    5,\n",
      "    2,\n",
      "    3,\n",
      "    0,\n",
      "    10,\n",
      "    307,\n",
      "    4,\n",
      "    5,\n",
      "    1,\n",
      "    0,\n",
      "    0,\n",
      "    0,\n",
      "    0\n",
      "  ],\n",
      "  [\n",
      "    4,\n",
      "    10,\n",
      "    1,\n",
      "    2,\n",
      "    2,\n",
      "    2,\n",
      "    13,\n",
      "    1,\n",
      "    5,\n",
      "    4,\n",
      "    0,\n",
      "    0,\n",
      "    11,\n",
      "    331,\n",
      "    0,\n",
      "    3,\n",
      "    1,\n",
      "    3,\n",
      "    3,\n",
      "    0\n",
      "  ],\n",
      "  [\n",
      "    0,\n",
      "    11,\n",
      "    0,\n",
      "    0,\n",
      "    2,\n",
      "    1,\n",
      "    2,\n",
      "    1,\n",
      "    0,\n",
      "    0,\n",
      "    1,\n",
      "    0,\n",
      "    2,\n",
      "    6,\n",
      "    363,\n",
      "    1,\n",
      "    2,\n",
      "    0,\n",
      "    2,\n",
      "    0\n",
      "  ],\n",
      "  [\n",
      "    4,\n",
      "    4,\n",
      "    2,\n",
      "    1,\n",
      "    0,\n",
      "    1,\n",
      "    1,\n",
      "    0,\n",
      "    0,\n",
      "    2,\n",
      "    0,\n",
      "    0,\n",
      "    2,\n",
      "    1,\n",
      "    3,\n",
      "    371,\n",
      "    0,\n",
      "    0,\n",
      "    0,\n",
      "    6\n",
      "  ],\n",
      "  [\n",
      "    0,\n",
      "    0,\n",
      "    0,\n",
      "    1,\n",
      "    1,\n",
      "    0,\n",
      "    5,\n",
      "    3,\n",
      "    2,\n",
      "    4,\n",
      "    1,\n",
      "    5,\n",
      "    1,\n",
      "    4,\n",
      "    2,\n",
      "    0,\n",
      "    326,\n",
      "    1,\n",
      "    7,\n",
      "    1\n",
      "  ],\n",
      "  [\n",
      "    7,\n",
      "    2,\n",
      "    0,\n",
      "    0,\n",
      "    0,\n",
      "    9,\n",
      "    1,\n",
      "    1,\n",
      "    1,\n",
      "    3,\n",
      "    1,\n",
      "    1,\n",
      "    0,\n",
      "    0,\n",
      "    0,\n",
      "    3,\n",
      "    3,\n",
      "    333,\n",
      "    11,\n",
      "    0\n",
      "  ],\n",
      "  [\n",
      "    1,\n",
      "    2,\n",
      "    0,\n",
      "    0,\n",
      "    1,\n",
      "    1,\n",
      "    4,\n",
      "    1,\n",
      "    2,\n",
      "    0,\n",
      "    0,\n",
      "    2,\n",
      "    2,\n",
      "    4,\n",
      "    8,\n",
      "    4,\n",
      "    97,\n",
      "    2,\n",
      "    179,\n",
      "    0\n",
      "  ],\n",
      "  [\n",
      "    38,\n",
      "    4,\n",
      "    0,\n",
      "    0,\n",
      "    0,\n",
      "    0,\n",
      "    4,\n",
      "    0,\n",
      "    0,\n",
      "    2,\n",
      "    2,\n",
      "    0,\n",
      "    0,\n",
      "    8,\n",
      "    3,\n",
      "    48,\n",
      "    17,\n",
      "    2,\n",
      "    9,\n",
      "    114\n",
      "  ]\n",
      "]\n"
     ]
    }
   ],
   "source": [
    "import json\n",
    "print(json.dumps(cf.tolist(), indent=2))"
   ]
  },
  {
   "cell_type": "code",
   "execution_count": 30,
   "metadata": {},
   "outputs": [],
   "source": [
    "import seaborn as sns\n",
    "import matplotlib.pyplot as plt\n",
    "%matplotlib inline"
   ]
  },
  {
   "cell_type": "code",
   "execution_count": 37,
   "metadata": {},
   "outputs": [
    {
     "data": {
      "image/png": "[encoded data removed]",
      "text/plain": [
       "<Figure size 1440x720 with 2 Axes>"
      ]
     },
     "metadata": {
      "needs_background": "light"
     },
     "output_type": "display_data"
    }
   ],
   "source": [
    "plt.figure(figsize=(20,10))\n",
    "ax = sns.heatmap(cf, annot=True, fmt=\"d\", linewidths=.5, center=90, vmax=200)"
   ]
  },
  {
   "cell_type": "code",
   "execution_count": 39,
   "metadata": {},
   "outputs": [],
   "source": [
    "#Removing Stopwords\n",
    "nlp = spacy.load('en')"
   ]
  },
  {
   "cell_type": "code",
   "execution_count": 40,
   "metadata": {},
   "outputs": [
    {
     "data": {
      "text/plain": [
       "{\"'d\",\n",
       " \"'ll\",\n",
       " \"'m\",\n",
       " \"'re\",\n",
       " \"'s\",\n",
       " \"'ve\",\n",
       " 'a',\n",
       " 'about',\n",
       " 'above',\n",
       " 'across',\n",
       " 'after',\n",
       " 'afterwards',\n",
       " 'again',\n",
       " 'against',\n",
       " 'all',\n",
       " 'almost',\n",
       " 'alone',\n",
       " 'along',\n",
       " 'already',\n",
       " 'also',\n",
       " 'although',\n",
       " 'always',\n",
       " 'am',\n",
       " 'among',\n",
       " 'amongst',\n",
       " 'amount',\n",
       " 'an',\n",
       " 'and',\n",
       " 'another',\n",
       " 'any',\n",
       " 'anyhow',\n",
       " 'anyone',\n",
       " 'anything',\n",
       " 'anyway',\n",
       " 'anywhere',\n",
       " 'are',\n",
       " 'around',\n",
       " 'as',\n",
       " 'at',\n",
       " 'back',\n",
       " 'be',\n",
       " 'became',\n",
       " 'because',\n",
       " 'become',\n",
       " 'becomes',\n",
       " 'becoming',\n",
       " 'been',\n",
       " 'before',\n",
       " 'beforehand',\n",
       " 'behind',\n",
       " 'being',\n",
       " 'below',\n",
       " 'beside',\n",
       " 'besides',\n",
       " 'between',\n",
       " 'beyond',\n",
       " 'both',\n",
       " 'bottom',\n",
       " 'but',\n",
       " 'by',\n",
       " 'ca',\n",
       " 'call',\n",
       " 'can',\n",
       " 'cannot',\n",
       " 'could',\n",
       " 'did',\n",
       " 'do',\n",
       " 'does',\n",
       " 'doing',\n",
       " 'done',\n",
       " 'down',\n",
       " 'due',\n",
       " 'during',\n",
       " 'each',\n",
       " 'eight',\n",
       " 'either',\n",
       " 'eleven',\n",
       " 'else',\n",
       " 'elsewhere',\n",
       " 'empty',\n",
       " 'enough',\n",
       " 'even',\n",
       " 'ever',\n",
       " 'every',\n",
       " 'everyone',\n",
       " 'everything',\n",
       " 'everywhere',\n",
       " 'except',\n",
       " 'few',\n",
       " 'fifteen',\n",
       " 'fifty',\n",
       " 'first',\n",
       " 'five',\n",
       " 'for',\n",
       " 'former',\n",
       " 'formerly',\n",
       " 'forty',\n",
       " 'four',\n",
       " 'from',\n",
       " 'front',\n",
       " 'full',\n",
       " 'further',\n",
       " 'get',\n",
       " 'give',\n",
       " 'go',\n",
       " 'had',\n",
       " 'has',\n",
       " 'have',\n",
       " 'he',\n",
       " 'hence',\n",
       " 'her',\n",
       " 'here',\n",
       " 'hereafter',\n",
       " 'hereby',\n",
       " 'herein',\n",
       " 'hereupon',\n",
       " 'hers',\n",
       " 'herself',\n",
       " 'him',\n",
       " 'himself',\n",
       " 'his',\n",
       " 'how',\n",
       " 'however',\n",
       " 'hundred',\n",
       " 'i',\n",
       " 'if',\n",
       " 'in',\n",
       " 'indeed',\n",
       " 'into',\n",
       " 'is',\n",
       " 'it',\n",
       " 'its',\n",
       " 'itself',\n",
       " 'just',\n",
       " 'keep',\n",
       " 'last',\n",
       " 'latter',\n",
       " 'latterly',\n",
       " 'least',\n",
       " 'less',\n",
       " 'made',\n",
       " 'make',\n",
       " 'many',\n",
       " 'may',\n",
       " 'me',\n",
       " 'meanwhile',\n",
       " 'might',\n",
       " 'mine',\n",
       " 'more',\n",
       " 'moreover',\n",
       " 'most',\n",
       " 'mostly',\n",
       " 'move',\n",
       " 'much',\n",
       " 'must',\n",
       " 'my',\n",
       " 'myself',\n",
       " \"n't\",\n",
       " 'name',\n",
       " 'namely',\n",
       " 'neither',\n",
       " 'never',\n",
       " 'nevertheless',\n",
       " 'next',\n",
       " 'nine',\n",
       " 'no',\n",
       " 'nobody',\n",
       " 'none',\n",
       " 'noone',\n",
       " 'nor',\n",
       " 'not',\n",
       " 'nothing',\n",
       " 'now',\n",
       " 'nowhere',\n",
       " 'n‘t',\n",
       " 'n’t',\n",
       " 'of',\n",
       " 'off',\n",
       " 'often',\n",
       " 'on',\n",
       " 'once',\n",
       " 'one',\n",
       " 'only',\n",
       " 'onto',\n",
       " 'or',\n",
       " 'other',\n",
       " 'others',\n",
       " 'otherwise',\n",
       " 'our',\n",
       " 'ours',\n",
       " 'ourselves',\n",
       " 'out',\n",
       " 'over',\n",
       " 'own',\n",
       " 'part',\n",
       " 'per',\n",
       " 'perhaps',\n",
       " 'please',\n",
       " 'put',\n",
       " 'quite',\n",
       " 'rather',\n",
       " 're',\n",
       " 'really',\n",
       " 'regarding',\n",
       " 'same',\n",
       " 'say',\n",
       " 'see',\n",
       " 'seem',\n",
       " 'seemed',\n",
       " 'seeming',\n",
       " 'seems',\n",
       " 'serious',\n",
       " 'several',\n",
       " 'she',\n",
       " 'should',\n",
       " 'show',\n",
       " 'side',\n",
       " 'since',\n",
       " 'six',\n",
       " 'sixty',\n",
       " 'so',\n",
       " 'some',\n",
       " 'somehow',\n",
       " 'someone',\n",
       " 'something',\n",
       " 'sometime',\n",
       " 'sometimes',\n",
       " 'somewhere',\n",
       " 'still',\n",
       " 'such',\n",
       " 'take',\n",
       " 'ten',\n",
       " 'than',\n",
       " 'that',\n",
       " 'the',\n",
       " 'their',\n",
       " 'them',\n",
       " 'themselves',\n",
       " 'then',\n",
       " 'thence',\n",
       " 'there',\n",
       " 'thereafter',\n",
       " 'thereby',\n",
       " 'therefore',\n",
       " 'therein',\n",
       " 'thereupon',\n",
       " 'these',\n",
       " 'they',\n",
       " 'third',\n",
       " 'this',\n",
       " 'those',\n",
       " 'though',\n",
       " 'three',\n",
       " 'through',\n",
       " 'throughout',\n",
       " 'thru',\n",
       " 'thus',\n",
       " 'to',\n",
       " 'together',\n",
       " 'too',\n",
       " 'top',\n",
       " 'toward',\n",
       " 'towards',\n",
       " 'twelve',\n",
       " 'twenty',\n",
       " 'two',\n",
       " 'under',\n",
       " 'unless',\n",
       " 'until',\n",
       " 'up',\n",
       " 'upon',\n",
       " 'us',\n",
       " 'used',\n",
       " 'using',\n",
       " 'various',\n",
       " 'very',\n",
       " 'via',\n",
       " 'was',\n",
       " 'we',\n",
       " 'well',\n",
       " 'were',\n",
       " 'what',\n",
       " 'whatever',\n",
       " 'when',\n",
       " 'whence',\n",
       " 'whenever',\n",
       " 'where',\n",
       " 'whereafter',\n",
       " 'whereas',\n",
       " 'whereby',\n",
       " 'wherein',\n",
       " 'whereupon',\n",
       " 'wherever',\n",
       " 'whether',\n",
       " 'which',\n",
       " 'while',\n",
       " 'whither',\n",
       " 'who',\n",
       " 'whoever',\n",
       " 'whole',\n",
       " 'whom',\n",
       " 'whose',\n",
       " 'why',\n",
       " 'will',\n",
       " 'with',\n",
       " 'within',\n",
       " 'without',\n",
       " 'would',\n",
       " 'yet',\n",
       " 'you',\n",
       " 'your',\n",
       " 'yours',\n",
       " 'yourself',\n",
       " 'yourselves',\n",
       " '‘d',\n",
       " '‘ll',\n",
       " '‘m',\n",
       " '‘re',\n",
       " '‘s',\n",
       " '‘ve',\n",
       " '’d',\n",
       " '’ll',\n",
       " '’m',\n",
       " '’re',\n",
       " '’s',\n",
       " '’ve'}"
      ]
     },
     "execution_count": 40,
     "metadata": {},
     "output_type": "execute_result"
    }
   ],
   "source": [
    "from spacy.lang.en.stop_words import STOP_WORDS\n",
    "STOP_WORDS"
   ]
  },
  {
   "cell_type": "code",
   "execution_count": 42,
   "metadata": {},
   "outputs": [
    {
     "name": "stdout",
     "output_type": "stream",
     "text": [
      "{'due', 'both', 'rather', 'never', '‘m', 'them', 'me', 'the', 'nothing', 'mine', 'whereafter', 'used', 'very', 'each', 'for', 'under', 'about', 'thru', 'whence', 'empty', 'wherein', 'becomes', 'indeed', 'also', 'namely', 'no', 'still', 'formerly', 'whenever', 'regarding', 'being', 'amount', 'during', 'has', 'already', 'top', 'do', 'three', 'ourselves', 'towards', 'thus', 'within', 'must', 'therein', 'thereupon', 'thereafter', 'besides', 'enough', 'onto', 'and', \"'d\", 'become', 'next', 'him', 'as', 'whoever', 'fifteen', 'an', 'many', 'seem', 'various', '’d', 'toward', 'five', 'well', 'none', 'there', 'around', 'take', 'ca', 'anyway', 'where', 'from', 'because', 'you', 'until', 'using', 'became', 'sixty', 'herself', 'since', 'n‘t', 'side', '’ve', '‘d', 'above', 'so', 'moreover', 'a', 'beyond', 'himself', 'put', 'twelve', 'at', 'anywhere', 'ever', 'sometime', 'make', 'why', 'in', 'latterly', 'something', 'few', 'ten', 'name', 'becoming', 'get', 'by', \"'re\", 'otherwise', 'again', \"'s\", 'though', 'yours', 'nevertheless', 'whom', 'we', 'hereupon', 'several', 'further', 'hence', 'whereas', 'mostly', 'others', 'serious', 'could', 'whose', 'off', 'up', '‘re', 'least', 'too', 'somewhere', 'over', 'they', 'through', 'beside', 'nine', 'bottom', 'twenty', 'such', 'latter', 'quite', 'across', 'front', 'last', 'perhaps', 'meanwhile', 'of', 'if', 'once', 'but', '‘s', 'elsewhere', 'anyhow', 'just', 'he', 'give', 'first', 'down', 'might', 'were', 'n’t', 'to', 'below', 'seemed', 'anyone', 'which', 'almost', 'beforehand', 'really', 'everything', 'done', 'throughout', 'alone', 'someone', '’m', 'call', 'unless', 'everywhere', 'say', 'move', 'then', 'who', 'her', 'here', 'yourselves', 'myself', 'eleven', 'can', 'one', 'except', \"'ll\", 'should', 'does', 'nowhere', 'full', 'your', 'some', 'will', 'not', 'whither', 'with', 'third', 'among', 'their', 'before', 'all', 'else', 'its', 'have', 'see', \"'ve\", 'show', 'therefore', 'neither', 'afterwards', 'doing', 'after', 'cannot', 'please', 'herein', 'everyone', 'hers', 'four', 'keep', 'themselves', 'us', 'may', '‘ll', 'more', 'whatever', 'without', 'nor', 'hereafter', 'however', 'my', 'behind', '’re', 'any', 'own', 'between', 'somehow', 're', 'two', 'most', 'into', 'go', 'seeming', '’ll', 'per', 'did', 'thereby', 'eight', 'only', 'another', 'whereupon', 'amongst', 'been', 'made', 'it', 'be', 'yourself', 'thence', 'much', 'anything', '’s', 'those', 'always', 'via', 'i', 'hundred', \"'m\", 'whether', 'less', 'forty', 'how', 'than', 'noone', 'six', 'every', 'hereby', 'wherever', 'often', 'other', 'itself', 'although', 'out', 'whereby', 'either', 'what', 'nobody', 'when', 'back', 'had', 'are', 'would', 'seems', 'while', 'against', 'upon', 'his', 'she', 'sometimes', 'part', 'whole', 'was', '‘ve', 'yet', 'our', 'that', 'am', 'these', 'now', 'on', \"n't\", 'this', 'together', 'ours', 'former', 'is', 'or', 'same', 'along', 'fifty', 'even'}\n"
     ]
    }
   ],
   "source": [
    "print(STOP_WORDS)"
   ]
  },
  {
   "cell_type": "code",
   "execution_count": 43,
   "metadata": {},
   "outputs": [
    {
     "data": {
      "text/plain": [
       "326"
      ]
     },
     "execution_count": 43,
     "metadata": {},
     "output_type": "execute_result"
    }
   ],
   "source": [
    "len(STOP_WORDS)"
   ]
  },
  {
   "cell_type": "code",
   "execution_count": 44,
   "metadata": {},
   "outputs": [
    {
     "data": {
      "text/plain": [
       "'Their are 326 stopwords in spacy'"
      ]
     },
     "execution_count": 44,
     "metadata": {},
     "output_type": "execute_result"
    }
   ],
   "source": [
    "f'Their are {len(STOP_WORDS)} stopwords in spacy'"
   ]
  },
  {
   "cell_type": "code",
   "execution_count": 45,
   "metadata": {},
   "outputs": [],
   "source": [
    "#We can also add our own stopwords in this\n",
    "STOP_WORDS.add(\"THis\")"
   ]
  },
  {
   "cell_type": "code",
   "execution_count": 46,
   "metadata": {},
   "outputs": [
    {
     "data": {
      "text/plain": [
       "327"
      ]
     },
     "execution_count": 46,
     "metadata": {},
     "output_type": "execute_result"
    }
   ],
   "source": [
    "len(STOP_WORDS)"
   ]
  },
  {
   "cell_type": "code",
   "execution_count": 47,
   "metadata": {},
   "outputs": [],
   "source": [
    "doc = nlp('I am Learning the most important ideas of the idea of machine learning')"
   ]
  },
  {
   "cell_type": "code",
   "execution_count": 48,
   "metadata": {},
   "outputs": [
    {
     "name": "stdout",
     "output_type": "stream",
     "text": [
      "I am Learning the most important ideas of the idea of machine learning\n"
     ]
    }
   ],
   "source": [
    "print(doc)"
   ]
  },
  {
   "cell_type": "code",
   "execution_count": 49,
   "metadata": {},
   "outputs": [
    {
     "name": "stdout",
     "output_type": "stream",
     "text": [
      "I\n",
      "am\n",
      "Learning\n",
      "the\n",
      "most\n",
      "important\n",
      "ideas\n",
      "of\n",
      "the\n",
      "idea\n",
      "of\n",
      "machine\n",
      "learning\n"
     ]
    }
   ],
   "source": [
    "for i in doc:\n",
    "    print(i)"
   ]
  },
  {
   "cell_type": "code",
   "execution_count": 50,
   "metadata": {},
   "outputs": [],
   "source": [
    "tokens = i"
   ]
  },
  {
   "cell_type": "code",
   "execution_count": 53,
   "metadata": {},
   "outputs": [],
   "source": [
    "simplified_docs = [token for token in doc if not token.is_punct | token.is_stop]"
   ]
  },
  {
   "cell_type": "code",
   "execution_count": 54,
   "metadata": {},
   "outputs": [
    {
     "data": {
      "text/plain": [
       "[Learning, important, ideas, idea, machine, learning]"
      ]
     },
     "execution_count": 54,
     "metadata": {},
     "output_type": "execute_result"
    }
   ],
   "source": [
    "simplified_docs"
   ]
  },
  {
   "cell_type": "code",
   "execution_count": 57,
   "metadata": {},
   "outputs": [
    {
     "name": "stdout",
     "output_type": "stream",
     "text": [
      "Token:Learning\tLemmatized:learn\tPart-of-Speech-Tag:100\n",
      "Token:important\tLemmatized:important\tPart-of-Speech-Tag:84\n",
      "Token:ideas\tLemmatized:idea\tPart-of-Speech-Tag:92\n",
      "Token:idea\tLemmatized:idea\tPart-of-Speech-Tag:92\n",
      "Token:machine\tLemmatized:machine\tPart-of-Speech-Tag:92\n",
      "Token:learning\tLemmatized:learning\tPart-of-Speech-Tag:92\n"
     ]
    }
   ],
   "source": [
    "for token in simplified_docs:\n",
    "    print(f'Token:{token.orth_}\\tLemmatized:{token.lemma_}\\tPart-of-Speech-Tag:{token.pos}')"
   ]
  },
  {
   "cell_type": "code",
   "execution_count": 58,
   "metadata": {},
   "outputs": [],
   "source": [
    "#Integrating Back with our classifier pipeline\n",
    "??CountVectorizer"
   ]
  },
  {
   "cell_type": "code",
   "execution_count": 59,
   "metadata": {},
   "outputs": [],
   "source": [
    "from spacy.lang.en import English\n",
    "tokenizer = English().Defaults.create_tokenizer(nlp)"
   ]
  },
  {
   "cell_type": "code",
   "execution_count": 60,
   "metadata": {},
   "outputs": [],
   "source": [
    "def spacy_tokenizer(document):\n",
    "    return [token.orth_ for token in tokenizer(document)]"
   ]
  },
  {
   "cell_type": "code",
   "execution_count": 61,
   "metadata": {},
   "outputs": [
    {
     "name": "stdout",
     "output_type": "stream",
     "text": [
      "CPU times: user 160 µs, sys: 7 µs, total: 167 µs\n",
      "Wall time: 171 µs\n"
     ]
    }
   ],
   "source": [
    "%%time\n",
    "text_lr_clf = Pipeline([('vect', CountVectorizer()), ('tfidf', TfidfTransformer()), ('clf', LR())])"
   ]
  },
  {
   "cell_type": "code",
   "execution_count": 62,
   "metadata": {},
   "outputs": [
    {
     "name": "stderr",
     "output_type": "stream",
     "text": [
      "/home/aman/anaconda3/lib/python3.7/site-packages/sklearn/linear_model/logistic.py:432: FutureWarning: Default solver will be changed to 'lbfgs' in 0.22. Specify a solver to silence this warning.\n",
      "  FutureWarning)\n",
      "/home/aman/anaconda3/lib/python3.7/site-packages/sklearn/linear_model/logistic.py:469: FutureWarning: Default multi_class will be changed to 'auto' in 0.22. Specify the multi_class option to silence this warning.\n",
      "  \"this warning.\", FutureWarning)\n"
     ]
    }
   ],
   "source": [
    "text_lr_clf = text_lr_clf.fit(train.data, train.target)"
   ]
  },
  {
   "cell_type": "code",
   "execution_count": 64,
   "metadata": {},
   "outputs": [
    {
     "name": "stdout",
     "output_type": "stream",
     "text": [
      "Test Accuracy is 82.79341476367499\n"
     ]
    },
    {
     "data": {
      "text/plain": [
       "82.79341476367499"
      ]
     },
     "execution_count": 64,
     "metadata": {},
     "output_type": "execute_result"
    }
   ],
   "source": [
    "def cal_print_accuracy(text_lr_clf):\n",
    "    predictions = text_lr_clf.predict(test.data)\n",
    "    clf_accuracy = np.mean(predictions == test.target) * 100\n",
    "    print(f'Test Accuracy is {clf_accuracy}')\n",
    "    return clf_accuracy\n",
    "\n",
    "cal_print_accuracy(text_lr_clf)"
   ]
  },
  {
   "cell_type": "code",
   "execution_count": 65,
   "metadata": {},
   "outputs": [
    {
     "name": "stdout",
     "output_type": "stream",
     "text": [
      "CPU times: user 148 µs, sys: 5 µs, total: 153 µs\n",
      "Wall time: 155 µs\n"
     ]
    }
   ],
   "source": [
    "%%time \n",
    "text_lr_clf = Pipeline([('vect', CountVectorizer(tokenizer=spacy_tokenizer, stop_words=list(STOP_WORDS))), ('tfidf', TfidfTransformer()), ('clf', LR())])"
   ]
  },
  {
   "cell_type": "code",
   "execution_count": 67,
   "metadata": {},
   "outputs": [
    {
     "name": "stderr",
     "output_type": "stream",
     "text": [
      "/home/aman/anaconda3/lib/python3.7/site-packages/sklearn/linear_model/logistic.py:432: FutureWarning: Default solver will be changed to 'lbfgs' in 0.22. Specify a solver to silence this warning.\n",
      "  FutureWarning)\n",
      "/home/aman/anaconda3/lib/python3.7/site-packages/sklearn/linear_model/logistic.py:469: FutureWarning: Default multi_class will be changed to 'auto' in 0.22. Specify the multi_class option to silence this warning.\n",
      "  \"this warning.\", FutureWarning)\n"
     ]
    },
    {
     "name": "stdout",
     "output_type": "stream",
     "text": [
      "Test Accuracy is 78.26606479022836\n"
     ]
    },
    {
     "data": {
      "text/plain": [
       "78.26606479022836"
      ]
     },
     "execution_count": 67,
     "metadata": {},
     "output_type": "execute_result"
    }
   ],
   "source": [
    "text_lr_clf = text_lr_clf.fit(train.data, train.target)\n",
    "\n",
    "cal_print_accuracy(text_lr_clf)"
   ]
  },
  {
   "cell_type": "code",
   "execution_count": null,
   "metadata": {},
   "outputs": [],
   "source": []
  }
 ],
 "metadata": {
  "kernelspec": {
   "display_name": "Python 3",
   "language": "python",
   "name": "python3"
  },
  "language_info": {
   "codemirror_mode": {
    "name": "ipython",
    "version": 3
   },
   "file_extension": ".py",
   "mimetype": "text/x-python",
   "name": "python",
   "nbconvert_exporter": "python",
   "pygments_lexer": "ipython3",
   "version": "3.7.4"
  }
 },
 "nbformat": 4,
 "nbformat_minor": 2
}
